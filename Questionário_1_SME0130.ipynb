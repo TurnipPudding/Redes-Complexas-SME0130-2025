{
  "nbformat": 4,
  "nbformat_minor": 0,
  "metadata": {
    "colab": {
      "provenance": [],
      "toc_visible": true
    },
    "kernelspec": {
      "name": "python3",
      "display_name": "Python 3"
    },
    "language_info": {
      "name": "python"
    }
  },
  "cells": [
    {
      "cell_type": "code",
      "source": [],
      "metadata": {
        "id": "z8nfDs-qjcHs"
      },
      "execution_count": 53,
      "outputs": []
    },
    {
      "cell_type": "markdown",
      "source": [
        "# Funções auxiliares e imports"
      ],
      "metadata": {
        "id": "cc7EJ2ceBiJV"
      }
    },
    {
      "cell_type": "markdown",
      "source": [
        "## Imports"
      ],
      "metadata": {
        "id": "Gr83jHrgjeSk"
      }
    },
    {
      "cell_type": "code",
      "execution_count": 54,
      "metadata": {
        "id": "5hIHvAumjE3u"
      },
      "outputs": [],
      "source": [
        "from numpy  import *\n",
        "import numpy as np\n",
        "import matplotlib.pyplot as plt\n",
        "import networkx as nx\n",
        "import math"
      ]
    },
    {
      "cell_type": "markdown",
      "source": [
        "## Lendo e plotando o grafo dos dados"
      ],
      "metadata": {
        "id": "8mprNBkQjl-0"
      }
    },
    {
      "cell_type": "markdown",
      "source": [
        "### Base Lesmis"
      ],
      "metadata": {
        "id": "fngjBcWsj7Cl"
      }
    },
    {
      "cell_type": "code",
      "source": [
        "# Base de dados para a questão 1\n",
        "lesmis = nx.read_gml(\"lesmis.gml\")\n",
        "\n",
        "# plt.figure(figsize=(12,10))\n",
        "# pos = nx.spring_layout(lesmis)\n",
        "# nx.draw(lesmis, pos, node_color=\"lightgray\", node_size=500, with_labels=True)"
      ],
      "metadata": {
        "id": "vLLeDeV-kT5V"
      },
      "execution_count": 55,
      "outputs": []
    },
    {
      "cell_type": "markdown",
      "source": [
        "### Base Powergrid"
      ],
      "metadata": {
        "id": "PpMapfQmj9-4"
      }
    },
    {
      "cell_type": "code",
      "source": [
        "# Base de dados para a questão 2\n",
        "powergrid = nx.read_edgelist(\"powergrid.txt\")\n",
        "\n",
        "# plt.figure(figsize=(12,10))\n",
        "# pos = nx.spring_layout(powergrid)\n",
        "# nx.draw(powergrid, pos, node_color=\"lightgray\", node_size=50, with_labels=True)"
      ],
      "metadata": {
        "id": "VpbV7_V5kUP8"
      },
      "execution_count": 56,
      "outputs": []
    },
    {
      "cell_type": "markdown",
      "source": [
        "### Base Euroroad"
      ],
      "metadata": {
        "id": "5tcHK2QCkL5B"
      }
    },
    {
      "cell_type": "code",
      "source": [
        "# Base de dados para a questão 3\n",
        "euroroad = nx.read_edgelist(\"euroroad.txt\")\n",
        "\n",
        "# plt.figure(figsize=(12,10))\n",
        "# pos = nx.spring_layout(euroroad)\n",
        "# nx.draw(euroroad, pos, node_color=\"lightgray\", node_size=500, with_labels=True)"
      ],
      "metadata": {
        "id": "IDaD_1SnkUps"
      },
      "execution_count": 57,
      "outputs": []
    },
    {
      "cell_type": "markdown",
      "source": [
        "### Base Usairport"
      ],
      "metadata": {
        "id": "Q5YErBVukPAs"
      }
    },
    {
      "cell_type": "code",
      "source": [
        "# Base de dados para as questões 4 e 5\n",
        "usairport = nx.read_weighted_edgelist(\"usairport.txt\")\n",
        "\n",
        "# plt.figure(figsize=(12,10))\n",
        "# pos = nx.spring_layout(usairport)\n",
        "# nx.draw(usairport, pos, node_color=\"lightgray\", node_size=500, with_labels=True)"
      ],
      "metadata": {
        "id": "4kzYqUxdj6gc"
      },
      "execution_count": 58,
      "outputs": []
    },
    {
      "cell_type": "markdown",
      "source": [
        "## Padronização da Rede"
      ],
      "metadata": {
        "id": "vSUH9TbYyewH"
      }
    },
    {
      "cell_type": "code",
      "source": [
        "# Função que \"padroniza\" a rede, transformando-a em uma rede sem direção, e retornando o maior componente conectado para a análise.\n",
        "def padronizar_rede(G):\n",
        "    # Transformamos o grafo em uma rede sem direção.\n",
        "    G = G.to_undirected()\n",
        "    G.remove_edges_from(nx.selfloop_edges(G))\n",
        "\n",
        "    # Vamos selecionar apenas o maior componente conectado.\n",
        "    Gcc = sorted(nx.connected_components(G), key=len, reverse=True)\n",
        "    G = G.subgraph(Gcc[0])\n",
        "\n",
        "    # Transformando os labels para números inteiros, começando com 0:\n",
        "\n",
        "    G = nx.convert_node_labels_to_integers(G, first_label=0)\n",
        "\n",
        "    # Número de vértices e arestas:\n",
        "\n",
        "    N = len(G)\n",
        "    M = G.number_of_edges()\n",
        "    print('Number of nodes:', N)\n",
        "    print('Number of edges:', M)\n",
        "    return G\n",
        "\n"
      ],
      "metadata": {
        "id": "kgO85rCDyhw2"
      },
      "execution_count": 59,
      "outputs": []
    },
    {
      "cell_type": "markdown",
      "source": [
        "## Cálculo do Grau Médio"
      ],
      "metadata": {
        "id": "i0lVTulD_ZOw"
      }
    },
    {
      "cell_type": "code",
      "source": [
        "# Função para calcular o grau médio do grafo.\n",
        "def mean_degree(G):\n",
        "    vk = dict(G.degree()).values()\n",
        "    vk = np.array(list(vk))\n",
        "    print('Degree', vk)\n",
        "\n",
        "\n",
        "\n",
        "    md = mean(vk)\n",
        "    # print('Mean degree: ', md)\n",
        "    return md\n",
        "\n"
      ],
      "metadata": {
        "id": "YNUW9ela_pMe"
      },
      "execution_count": 60,
      "outputs": []
    },
    {
      "cell_type": "markdown",
      "source": [
        "## Cálculo da Distribuição do Grau"
      ],
      "metadata": {
        "id": "kpsZvnP87615"
      }
    },
    {
      "cell_type": "code",
      "source": [
        "# Função para calcular a distribuição do grau do grafo.\n",
        "def degree_distribution(G):\n",
        "    vk = dict(G.degree())\n",
        "    vk = list(vk.values())  # we get only the degree values\n",
        "    vk = np.array(vk)\n",
        "    maxk = np.max(vk)\n",
        "    mink = np.min(vk)\n",
        "    kvalues= np.arange(0,maxk+1) # possible values of k\n",
        "    Pk = np.zeros(maxk+1) # P(k)\n",
        "    for k in vk:\n",
        "        Pk[k] = Pk[k] + 1\n",
        "    Pk = Pk/sum(Pk) # the sum of the elements of P(k) must to be equal to one\n",
        "    return kvalues,Pk\n",
        "\n",
        "# Função para calcular o momento da distribuição do grau do grafo.\n",
        "def momment_of_degree_distribution(G,m):\n",
        "    k,Pk = degree_distribution(G)\n",
        "    M = sum((k**m)*Pk)\n",
        "    return M\n",
        "\n",
        "# Função para calcular a variância do grau.\n",
        "def variance(G):\n",
        "    variance = momment_of_degree_distribution(G,2) - momment_of_degree_distribution(G,1)**2\n",
        "    return variance\n",
        "# print(\"Variância do grau = \", variance)"
      ],
      "metadata": {
        "id": "b3doz2fe72ob"
      },
      "execution_count": 61,
      "outputs": []
    },
    {
      "cell_type": "markdown",
      "source": [
        "## Cálculo do Momento do Grau"
      ],
      "metadata": {
        "id": "F8ersUIekuXI"
      }
    },
    {
      "cell_type": "code",
      "source": [
        "# Função para calcular o momento do grafo.\n",
        "def momment(G,m):\n",
        "    M = 0\n",
        "    N = len(G)\n",
        "    for i in G.nodes:\n",
        "        M = M + G.degree(i)**m\n",
        "    M = M/N\n",
        "    return M"
      ],
      "metadata": {
        "id": "kiE8cI_3ndkr"
      },
      "execution_count": 62,
      "outputs": []
    },
    {
      "cell_type": "markdown",
      "source": [
        "## Cálculo da Entropia de Shannon"
      ],
      "metadata": {
        "id": "Mpt8ORlrklJb"
      }
    },
    {
      "cell_type": "code",
      "source": [
        "# Função para calcular a entropia de Shannon do grafo.\n",
        "def shannon_entropy(G):\n",
        "    k,Pk = degree_distribution(G)\n",
        "    H = 0\n",
        "    for p in Pk:\n",
        "        if(p > 0):\n",
        "            H = H - p*math.log(p, 2)\n",
        "    return H\n",
        "\n",
        "# Função para calcular a entropia de Shannon normalizada do grafo.\n",
        "def normalized_shannon_entropy(G):\n",
        "    k,Pk = degree_distribution(G)\n",
        "    H = 0\n",
        "    for p in Pk:\n",
        "        if(p > 0):\n",
        "            H = H - p*math.log(p, 2)\n",
        "    return H/math.log(len(G),2)"
      ],
      "metadata": {
        "id": "UhgvFXitkkVF"
      },
      "execution_count": 64,
      "outputs": []
    },
    {
      "cell_type": "markdown",
      "source": [
        "## Cálculo da Transitividade e do Coeficiente de Agrupamento"
      ],
      "metadata": {
        "id": "dzTmpsWdlWjc"
      }
    },
    {
      "cell_type": "code",
      "source": [
        "# Função para calcular o coeficiente de transitividade do grafo.\n",
        "def graph_transitivity(G):\n",
        "    CC = (nx.transitivity(G))\n",
        "    # print(\"Transitivity = \",\"%3.4f\"%CC)\n",
        "    return \"%3.4f\"%CC\n",
        "\n",
        "# Função para calcular o coeficiente de agrupamento do grafo.\n",
        "def avg_clustering_coefficient(G):\n",
        "    avc = nx.average_clustering(G)\n",
        "    # print(\"Average clustering:\", \"%3.4f\"%avc)\n",
        "    return \"%3.4f\"%avc"
      ],
      "metadata": {
        "id": "tOb-fB5ylm0E"
      },
      "execution_count": 65,
      "outputs": []
    },
    {
      "cell_type": "markdown",
      "source": [
        "# Questões"
      ],
      "metadata": {
        "id": "I1ShZ1TUBqVB"
      }
    },
    {
      "cell_type": "markdown",
      "source": [
        "## Questão 1)\n",
        "\n",
        "Para a rede do livro \"Os miseráveis\" (base lesmis), calcule o terceiro e quarto momento do grau. Considere o maior componente conectado."
      ],
      "metadata": {
        "id": "OKZDRVqbBWaA"
      }
    },
    {
      "cell_type": "code",
      "source": [
        "lesmis = padronizar_rede(lesmis)\n",
        "\n",
        "terceiro_momento = momment(lesmis, 3)\n",
        "quarto_momento = momment(lesmis, 4)\n",
        "\n",
        "print(\n",
        "    f\"Terceiro momento do grau da rede lesmis.gml: {terceiro_momento}\\n\"\n",
        "    f\"Quarto momento do grau da rede lesmis.gml: {quarto_momento}\\n\"\n",
        ")"
      ],
      "metadata": {
        "colab": {
          "base_uri": "https://localhost:8080/"
        },
        "id": "iiFYE9WRCFrE",
        "outputId": "431cb936-0e1d-446f-dc09-8708a1aa11fb"
      },
      "execution_count": 66,
      "outputs": [
        {
          "output_type": "stream",
          "name": "stdout",
          "text": [
            "Number of nodes: 77\n",
            "Number of edges: 254\n",
            "Terceiro momento do grau da rede lesmis.gml: 1408.025974025974\n",
            "Quarto momento do grau da rede lesmis.gml: 33592.72727272727\n",
            "\n"
          ]
        }
      ]
    },
    {
      "cell_type": "markdown",
      "source": [
        "## Questão 2)\n",
        "\n",
        "Implemente uma rotina para calcular a medida de complexidade. Qual o valor da complexidade para a rede de energia elétrica dos EUA (Base powergrid)."
      ],
      "metadata": {
        "id": "cQpjC-DnBudt"
      }
    },
    {
      "cell_type": "code",
      "source": [
        "powergrid = padronizar_rede(powergrid)\n",
        "\n",
        "k2 = momment(powergrid, 2)\n",
        "k1 = momment(powergrid, 1)\n",
        "\n",
        "alpha = k2 / k1\n",
        "\n",
        "print(\n",
        "    f\"Coeficiente de Complexididade da rede usairport.txt: {alpha}\\n\"\n",
        ")"
      ],
      "metadata": {
        "colab": {
          "base_uri": "https://localhost:8080/"
        },
        "id": "OmcOEdjiCrgX",
        "outputId": "ddfcffaf-8b7d-474e-c0f8-73e4a249a3f8"
      },
      "execution_count": 73,
      "outputs": [
        {
          "output_type": "stream",
          "name": "stdout",
          "text": [
            "Number of nodes: 4941\n",
            "Number of edges: 6594\n",
            "Coeficiente de Complexididade da rede usairport.txt: 3.8712465878070974\n",
            "\n"
          ]
        }
      ]
    },
    {
      "cell_type": "markdown",
      "source": [
        "## Questão 3)\n",
        "\n",
        "Implemente uma rotina para calcular a entropia de Shannon e calcule essa medida para a base de estradas da Europa (base euroroad)."
      ],
      "metadata": {
        "id": "vbusRl-jBxNF"
      }
    },
    {
      "cell_type": "code",
      "source": [
        "euroroad = padronizar_rede(euroroad)\n",
        "\n",
        "shannon = shannon_entropy(euroroad)\n",
        "n_shannon = normalized_shannon_entropy(euroroad)\n",
        "\n",
        "print(\n",
        "    f\"Entropia de Shannon da rede euroroad.txt: {shannon}\\n\"\n",
        "    f\"Entropia de Shannon normalizada da rede euroroad.txt: {n_shannon}\"\n",
        ")"
      ],
      "metadata": {
        "colab": {
          "base_uri": "https://localhost:8080/"
        },
        "id": "9-je6P7uDeyW",
        "outputId": "49d32507-c138-4e2a-982b-42dce4f793b8"
      },
      "execution_count": 68,
      "outputs": [
        {
          "output_type": "stream",
          "name": "stdout",
          "text": [
            "Number of nodes: 1039\n",
            "Number of edges: 1305\n",
            "Entropia de Shannon da rede euroroad.txt: 2.0036762578444716\n",
            "Entropia de Shannon normalizada da rede euroroad.txt: 0.19994813581710177\n"
          ]
        }
      ]
    },
    {
      "cell_type": "markdown",
      "source": [
        "## Questão 4)\n",
        "\n",
        "Calcule as medidas transitivity e average clustering coefficient para a base de dados de aeroportos do EUA (base usairport.txt)."
      ],
      "metadata": {
        "id": "W4zbofo-BzBE"
      }
    },
    {
      "cell_type": "code",
      "source": [
        "usairport = padronizar_rede(usairport)\n",
        "\n",
        "transitividade = graph_transitivity(usairport)\n",
        "\n",
        "acc = avg_clustering_coefficient(usairport)\n",
        "\n",
        "print(\n",
        "    f\"Transitividade da rede usairport.txt: {transitividade}\\n\"\n",
        "    f\"Coeficiente de Agrupamento Médio da rede usairport.txt: {acc}\"\n",
        ")"
      ],
      "metadata": {
        "colab": {
          "base_uri": "https://localhost:8080/"
        },
        "id": "0KsvIyk4EIGl",
        "outputId": "b8e916f9-b3ec-49a2-8ab1-d2f551a5e518"
      },
      "execution_count": 69,
      "outputs": [
        {
          "output_type": "stream",
          "name": "stdout",
          "text": [
            "Number of nodes: 1572\n",
            "Number of edges: 17214\n",
            "Transitividade da rede usairport.txt: 0.3841\n",
            "Coeficiente de Agrupamento Médio da rede usairport.txt: 0.5048\n"
          ]
        }
      ]
    },
    {
      "cell_type": "markdown",
      "source": [
        "## Questão 5)\n",
        "\n",
        "Calcule o coeficiente de complexidade e a entropia de Shannon para a rede de aeroportos dos EUA (base usairport.txt)."
      ],
      "metadata": {
        "id": "L7_1y_ikB1H0"
      }
    },
    {
      "cell_type": "code",
      "source": [
        "k2 = momment(usairport, 2)\n",
        "k1 = momment(usairport, 1)\n",
        "\n",
        "alpha = k2 / k1\n",
        "\n",
        "shannon = shannon_entropy(usairport)\n",
        "\n",
        "print(\n",
        "    f\"Coeficiente de Complexididade da rede usairport.txt: {alpha}\\n\"\n",
        "    f\"Entropia de Shannon da rede usairport.txt: {shannon}\"\n",
        ")\n"
      ],
      "metadata": {
        "colab": {
          "base_uri": "https://localhost:8080/"
        },
        "id": "Y8s2_q15A4W0",
        "outputId": "e3682822-75fb-4a39-d70d-6d439d9a4f2a"
      },
      "execution_count": 70,
      "outputs": [
        {
          "output_type": "stream",
          "name": "stdout",
          "text": [
            "Coeficiente de Complexididade da rede usairport.txt: 112.22870919019402\n",
            "Entropia de Shannon da rede usairport.txt: 4.989437976520321\n"
          ]
        }
      ]
    }
  ]
}