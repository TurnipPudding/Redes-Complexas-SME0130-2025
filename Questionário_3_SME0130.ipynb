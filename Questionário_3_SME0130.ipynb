{
 "cells": [
  {
   "cell_type": "markdown",
   "metadata": {},
   "source": [
    "# Funções Auxiliares e Imports"
   ]
  },
  {
   "cell_type": "markdown",
   "metadata": {},
   "source": [
    "## Imports"
   ]
  },
  {
   "cell_type": "code",
   "execution_count": 70,
   "metadata": {},
   "outputs": [],
   "source": [
    "import numpy as np\n",
    "import matplotlib.pyplot as plt\n",
    "import networkx as nx\n",
    "import random as random\n",
    "from scipy.stats import pearsonr\n",
    "from scipy import stats\n",
    "from scipy.linalg import expm\n",
    "import pandas as pd\n",
    "import seaborn as sns\n",
    "\n",
    "file_path = \"C:/Users/gabri/Downloads/Redes Complexas/\""
   ]
  },
  {
   "cell_type": "markdown",
   "metadata": {},
   "source": [
    "## Lendo e plotando o grafo dos dados"
   ]
  },
  {
   "cell_type": "markdown",
   "metadata": {},
   "source": [
    "### Base USairport500"
   ]
  },
  {
   "cell_type": "code",
   "execution_count": 71,
   "metadata": {},
   "outputs": [],
   "source": [
    "# Base de dados para a questão 1\n",
    "usa = nx.read_edgelist(file_path + \"data/USairport500.txt\")\n",
    "\n",
    "# plt.figure(figsize=(12,10))\n",
    "# pos = nx.spring_layout(usa)\n",
    "# nx.draw(usa, pos, node_color=\"lightgray\", node_size=50, with_labels=True)"
   ]
  },
  {
   "cell_type": "markdown",
   "metadata": {},
   "source": [
    "### Base Hamsterster"
   ]
  },
  {
   "cell_type": "code",
   "execution_count": 72,
   "metadata": {},
   "outputs": [],
   "source": [
    "# Base de dados para a questão 2\n",
    "ham = nx.read_edgelist(file_path + \"data/hamsterster.txt\")\n",
    "\n",
    "# plt.figure(figsize=(12,10))\n",
    "# pos = nx.spring_layout(ham)\n",
    "# nx.draw(ham, pos, node_color=\"lightgray\", node_size=500, with_labels=True)"
   ]
  },
  {
   "cell_type": "markdown",
   "metadata": {},
   "source": [
    "### Base Jazz"
   ]
  },
  {
   "cell_type": "code",
   "execution_count": 73,
   "metadata": {},
   "outputs": [],
   "source": [
    "# Base de dados para a questão 3\n",
    "jazz = nx.read_edgelist(file_path + \"data/jazz.txt\")\n",
    "\n",
    "# plt.figure(figsize=(12,10))\n",
    "# pos = nx.spring_layout(adv)\n",
    "# nx.draw(adv, pos, node_color=\"lightgray\", node_size=500, with_labels=True)"
   ]
  },
  {
   "cell_type": "markdown",
   "metadata": {},
   "source": [
    "### Base Word_Adjacencies"
   ]
  },
  {
   "cell_type": "code",
   "execution_count": 74,
   "metadata": {},
   "outputs": [],
   "source": [
    "# Base de dados para as questões 4 e 5\n",
    "word = nx.read_weighted_edgelist(file_path + \"data/word_adjacencies.txt\")\n",
    "\n",
    "# plt.figure(figsize=(12,10))\n",
    "# pos = nx.spring_layout(word)\n",
    "# nx.draw(word, pos, node_color=\"lightgray\", node_size=500, with_labels=True)"
   ]
  },
  {
   "cell_type": "markdown",
   "metadata": {},
   "source": [
    "### Padronização da Rede"
   ]
  },
  {
   "cell_type": "code",
   "execution_count": 75,
   "metadata": {},
   "outputs": [],
   "source": [
    "# Função que \"padroniza\" a rede, transformando-a em uma rede sem direção, e retornando o maior componente conectado para a análise.\n",
    "def padronizar_rede(G):\n",
    "    # Transformamos o grafo em uma rede sem direção.\n",
    "    G = G.to_undirected()\n",
    "    G.remove_edges_from(nx.selfloop_edges(G))\n",
    "\n",
    "    # Vamos selecionar apenas o maior componente conectado.\n",
    "    Gcc = sorted(nx.connected_components(G), key=len, reverse=True)\n",
    "    G = G.subgraph(Gcc[0])\n",
    "\n",
    "    # Transformando os labels para números inteiros, começando com 0:\n",
    "\n",
    "    G = nx.convert_node_labels_to_integers(G, first_label=0)\n",
    "\n",
    "    # Número de vértices e arestas:\n",
    "\n",
    "    N = len(G)\n",
    "    M = G.number_of_edges()\n",
    "    print('Number of nodes:', N)\n",
    "    print('Number of edges:', M)\n",
    "    return G\n",
    "\n"
   ]
  },
  {
   "cell_type": "markdown",
   "metadata": {},
   "source": [
    "## Funções do Questionário 1"
   ]
  },
  {
   "cell_type": "markdown",
   "metadata": {},
   "source": [
    "### Cálculo do Grau Médio"
   ]
  },
  {
   "cell_type": "code",
   "execution_count": 76,
   "metadata": {},
   "outputs": [],
   "source": [
    "# Função para calcular o grau médio do grafo.\n",
    "def mean_degree(G):\n",
    "    vk = dict(G.degree()).values()\n",
    "    vk = np.array(list(vk))\n",
    "    print('Degree', vk)\n",
    "\n",
    "\n",
    "\n",
    "    md = np.mean(vk)\n",
    "    # print('Mean degree: ', md)\n",
    "    return md\n",
    "\n"
   ]
  },
  {
   "cell_type": "markdown",
   "metadata": {},
   "source": [
    "### Cálculo da Distribuição do Grau"
   ]
  },
  {
   "cell_type": "code",
   "execution_count": 77,
   "metadata": {},
   "outputs": [],
   "source": [
    "# Função para calcular a distribuição do grau do grafo.\n",
    "def degree_distribution(G):\n",
    "    vk = dict(G.degree())\n",
    "    vk = list(vk.values())  # we get only the degree values\n",
    "    vk = np.array(vk)\n",
    "    maxk = np.max(vk)\n",
    "    mink = np.min(vk)\n",
    "    kvalues= np.arange(0,maxk+1) # possible values of k\n",
    "    Pk = np.zeros(maxk+1) # P(k)\n",
    "    for k in vk:\n",
    "        Pk[k] = Pk[k] + 1\n",
    "    Pk = Pk/sum(Pk) # the sum of the elements of P(k) must to be equal to one\n",
    "    return kvalues,Pk\n",
    "\n",
    "# Função para calcular o momento da distribuição do grau do grafo.\n",
    "def momment_of_degree_distribution(G,m):\n",
    "    k,Pk = degree_distribution(G)\n",
    "    M = sum((k**m)*Pk)\n",
    "    return M\n",
    "\n",
    "# Função para calcular a variância do grau.\n",
    "def variance(G):\n",
    "    variance = momment_of_degree_distribution(G,2) - momment_of_degree_distribution(G,1)**2\n",
    "    return variance\n",
    "# print(\"Variância do grau = \", variance)"
   ]
  },
  {
   "cell_type": "markdown",
   "metadata": {},
   "source": [
    "### Cálculo do Momento do Grau"
   ]
  },
  {
   "cell_type": "code",
   "execution_count": 78,
   "metadata": {},
   "outputs": [],
   "source": [
    "# Função para calcular o momento do grafo.\n",
    "def momment(G,m):\n",
    "    M = 0\n",
    "    N = len(G)\n",
    "    for i in G.nodes:\n",
    "        M = M + G.degree(i)**m\n",
    "    M = M/N\n",
    "    return M"
   ]
  },
  {
   "cell_type": "markdown",
   "metadata": {},
   "source": [
    "### Cálculo da Entropia de Shannon"
   ]
  },
  {
   "cell_type": "code",
   "execution_count": 79,
   "metadata": {},
   "outputs": [],
   "source": [
    "# Função para calcular a entropia de Shannon do grafo.\n",
    "def shannon_entropy(G):\n",
    "    k,Pk = degree_distribution(G)\n",
    "    H = 0\n",
    "    for p in Pk:\n",
    "        if(p > 0):\n",
    "            H = H - p*np.math.log(p, 2)\n",
    "    return H\n",
    "\n",
    "# Função para calcular a entropia de Shannon normalizada do grafo.\n",
    "def normalized_shannon_entropy(G):\n",
    "    k,Pk = degree_distribution(G)\n",
    "    H = 0\n",
    "    for p in Pk:\n",
    "        if(p > 0):\n",
    "            H = H - p*np.math.log(p, 2)\n",
    "    return H/np.math.log(len(G),2)"
   ]
  },
  {
   "cell_type": "markdown",
   "metadata": {},
   "source": [
    "### Cálculo da Transitividade e do Coeficiente de Agrupamento"
   ]
  },
  {
   "cell_type": "code",
   "execution_count": 80,
   "metadata": {},
   "outputs": [],
   "source": [
    "# Função para calcular o coeficiente de transitividade do grafo.\n",
    "def graph_transitivity(G):\n",
    "    CC = (nx.transitivity(G))\n",
    "    # print(\"Transitivity = \",\"%3.4f\"%CC)\n",
    "    return \"%3.4f\"%CC\n",
    "\n",
    "# Função para calcular o coeficiente de agrupamento do grafo.\n",
    "def avg_clustering_coefficient(G):\n",
    "    avc = nx.average_clustering(G)\n",
    "    # print(\"Average clustering:\", \"%3.4f\"%avc)\n",
    "    return \"%3.4f\"%avc"
   ]
  },
  {
   "cell_type": "markdown",
   "metadata": {},
   "source": [
    "## Funções do Questionário 2"
   ]
  },
  {
   "cell_type": "markdown",
   "metadata": {},
   "source": [
    "### Distâncias"
   ]
  },
  {
   "cell_type": "code",
   "execution_count": 81,
   "metadata": {},
   "outputs": [],
   "source": [
    "# Função para calcular e plotar a distribuição de grau da rede.\n",
    "def graph_avg_distance(G):\n",
    "\n",
    "    if nx.is_connected(G) == True:\n",
    "        l = nx.average_shortest_path_length(G)\n",
    "        print(\"Average shortest path length:\", \"%3.4f\"%l)\n",
    "    else:\n",
    "        print(\"The graph has more than one connected component\")\n",
    "    return \"%3.4f\"%l\n",
    "    \n",
    "\n",
    "# Função para calcular o diâmetro do grafo.\n",
    "def graph_diameter(G):\n",
    "    d = nx.diameter(G)\n",
    "    print('Network diameter:', d)\n",
    "    return d\n",
    "\n",
    "# Função para calcular a eficiência global e local do grafo.\n",
    "def graph_efficiency(G):\n",
    "\n",
    "    E = nx.global_efficiency(G)\n",
    "    print('Network efficiency', E)\n",
    "\n",
    "    leff = nx.local_efficiency(G)\n",
    "    print('The average local efficiency of the network:', leff)\n",
    "\n",
    "# Função para calcular a distância geodésica do grafo.\n",
    "def graph_geodesic_distance(G):\n",
    "    N = len(G)\n",
    "    d = graph_diameter(G)\n",
    "\n",
    "    if nx.is_connected(G) == True:\n",
    "        D = np.zeros(shape=(N,N)) # D is the matrix of distances\n",
    "        vl = []\n",
    "        for i in np.arange(0,N):\n",
    "            for j in np.arange(i+1, N):\n",
    "                if(i != j):\n",
    "                    aux = nx.shortest_path(G,i,j)\n",
    "                    dij = len(aux)-1\n",
    "                    D[i][j] = dij\n",
    "                    D[j][i] = dij\n",
    "                    vl.append(dij)\n",
    "        x = range(0,d+1)\n",
    "        plt.hist(vl, bins = x, density=True, color='#0504aa',alpha=0.7, rwidth=0.85)\n",
    "        plt.title(\"Distribution of the geodesic distances\", fontsize=20)\n",
    "        plt.ylabel(\"P(l)\", fontsize=15)\n",
    "        plt.xlabel(\"Shortest path length (l)\", fontsize=15)\n",
    "        #plt.grid(True)\n",
    "        plt.savefig('av_short_path.svg')\n",
    "        plt.show(True)\n",
    "    else:\n",
    "        print(\"The graph has more than one connected component\")\n",
    "\n"
   ]
  },
  {
   "cell_type": "markdown",
   "metadata": {},
   "source": [
    "### Cálculo da Correlação de Grau a Grau"
   ]
  },
  {
   "cell_type": "code",
   "execution_count": 82,
   "metadata": {},
   "outputs": [],
   "source": [
    "# Função para calcular e plotar a correlação de grau a grau (degree-degree correlation).\n",
    "def degree_correlation(G):\n",
    "    r=nx.degree_assortativity_coefficient(G)\n",
    "    print(\"Assortativity = \",\"%3.4f\"%r)\n",
    "\n",
    "# Função para calcular a correlação de Pearson entre os graus dos nós.\n",
    "def pearson_correlation(G):\n",
    "    ki = []\n",
    "    kj = []\n",
    "    for i in range(0,len(G.nodes())):\n",
    "        for j in range(0, len(G.nodes())):\n",
    "            if(G.has_edge(i,j) == True):\n",
    "                ki.append(G.degree(i))\n",
    "                kj.append(G.degree(j))\n",
    "                \n",
    "    \n",
    "    # calculate Pearson's correlation\n",
    "    corr, _ = pearsonr(ki, kj)\n",
    "    print('Pearsons correlation: %.3f' % corr)\n",
    "\n",
    "# Função para calcular o grau médio de vizinhança (knn) do grafo.\n",
    "def avg_neighbor_degree(G):\n",
    "\n",
    "    knn = []\n",
    "    for i in G.nodes():\n",
    "        aux =  nx.average_neighbor_degree(G, nodes = [i])\n",
    "        knn.append(float(aux[i]))\n",
    "    knn = np.array(knn)\n",
    "    print(\"Average degree of the neighborhood of the network:\", \"%3.2f\"%np.mean(knn))\n",
    "    return knn\n",
    "\n",
    "\n",
    "# Função para calcular a correlação entre conectividade média da vizinhança\n",
    "#  e grau do nó. Positiva em redes sortidas, negativa em redes assortativas.\n",
    "def avc_assnet_degree(G):\n",
    "    knn = avg_neighbor_degree(G)\n",
    "\n",
    "    vk = dict(G.degree())\n",
    "    vk = list(vk.values())\n",
    "\n",
    "\n",
    "\n",
    "    knnk = list()\n",
    "    ks = list()\n",
    "    for k in np.arange(np.min(vk), np.max(vk)+1):\n",
    "        aux = vk == k\n",
    "        if(len(knn[aux]) > 0):\n",
    "            av_knn = np.mean(knn[aux]) #average clustering among all the nodes with degree k\n",
    "            knnk.append(av_knn)\n",
    "            ks.append(k)\n",
    "    fig= plt.figure(figsize=(10,6))\n",
    "\n",
    "    plt.plot(ks, knnk, '-o', color='gray',markersize=10, linewidth=0,\n",
    "            markerfacecolor='lightgray',\n",
    "            markeredgecolor='black',\n",
    "            markeredgewidth=2)\n",
    "    #plt.loglog(ks,knnk,'bo',basex=10,basey=10)\n",
    "    #plt.title(\"Average neighborhood connectivity vs degree\")\n",
    "    plt.ylabel(\"knn(k)\", fontsize = 20)\n",
    "    plt.xlabel(\"k\", fontsize = 20)\n",
    "    #plt.savefig('knnk.eps')\n",
    "\n",
    "    # determine best fit line\n",
    "    par = np.polyfit(ks, knnk, 1, full=True)\n",
    "    slope=par[0][0]\n",
    "    intercept=par[0][1]\n",
    "    xl = [min(ks), max(ks)]\n",
    "    yl = [slope*xx + intercept  for xx in xl]\n",
    "    plt.plot(xl, yl, '--', linewidth=3, color='black')\n",
    "    plt.xticks(fontsize=15)\n",
    "    plt.yticks(fontsize=15)\n",
    "    plt.savefig('knn.eps') #save the figure into a file\n",
    "    plt.show(True)\n",
    "\n",
    "    return ks, knnk\n",
    "\n",
    "# Função para calcular o coeficiente de correlação de Pearson entre\n",
    "#  o grau do nó e a conectividade média da vizinhança.\n",
    "def pearson_correlation_knn(ks, knnk):\n",
    "    rho = np.corrcoef(ks, knnk)[0,1]\n",
    "    print('Pearson correlation coefficient:', rho)\n",
    "\n",
    "# Função para calcular o coeficiente de correlação de Spearman entre\n",
    "#  o grau do nó e a conectividade média da vizinhança.\n",
    "def spearman_correlation_knn(ks, knnk):\n",
    "    s = stats.spearmanr(ks, knnk)\n",
    "    print('Spearman rank correlation coefficient:', s[0])\n",
    "    print('p-value:', s[1])"
   ]
  },
  {
   "cell_type": "markdown",
   "metadata": {},
   "source": [
    "### Caminhadas Aleatórias"
   ]
  },
  {
   "cell_type": "code",
   "execution_count": 83,
   "metadata": {},
   "outputs": [],
   "source": [
    "# Função para realizar caminhadas aleatórias no grafo\n",
    "def random_walk(G, T, seed_node):\n",
    "    \n",
    "    # neighbors\n",
    "    ng = G.neighbors(seed_node)\n",
    "    walk = []\n",
    "    for t in range(0,T):\n",
    "        next_node = random.choice(list(ng))\n",
    "        ng = G.neighbors(next_node)\n",
    "        walk.append(next_node)\n",
    "    print('Walk:', walk)\n",
    "\n",
    "\n",
    "\n",
    "    nx.draw(G, with_labels = True, node_size=500, font_size=16, pos = nx.spring_layout(G))\n",
    "    plt.show(True)\n",
    "\n",
    "    A = nx.to_numpy_array(G)\n",
    "    print(A)\n",
    "    print('Number of walks of length two:')\n",
    "    print(A@A)\n",
    "\n"
   ]
  },
  {
   "cell_type": "markdown",
   "metadata": {},
   "source": [
    "## Funções do Questionário 3"
   ]
  },
  {
   "cell_type": "markdown",
   "metadata": {},
   "source": [
    "### Funções de Centralidades"
   ]
  },
  {
   "cell_type": "code",
   "execution_count": 84,
   "metadata": {},
   "outputs": [],
   "source": [
    "# Função para calcular a centralidade de grau do grafo.\n",
    "# Degree centrality: C(i) = k(i)/(N-1)\n",
    "def degree_centrality(G):\n",
    "    vk = dict(G.degree())\n",
    "    vk = list(vk.values())\n",
    "    print('Degree centrality', vk)\n",
    "    return vk\n",
    "\n",
    "# Função para plotar a distribuição da centralidade de grau do grafo.\n",
    "def degree_centrality_distribution(vk):\n",
    "    plt.figure(figsize=(6,4))\n",
    "    plt.hist(vk, density=True)\n",
    "    plt.title(\"Distribution of the Degree Centrality\", fontsize=20)\n",
    "    plt.ylabel(\"P(k)\", fontsize=20)\n",
    "    plt.xlabel(\"Degree Centrality (k)\", fontsize=20)\n",
    "    #plt.grid(True)\n",
    "    plt.savefig('degree-centrality.eps')\n",
    "    plt.show(True)\n",
    "\n",
    "# Função para calcular a centralidade de proximidade do grafo.\n",
    "# Closeness centrality: C(i) = 1/(sum_{j=1}^{N} d(i,j))\n",
    "def closeness_centrality(G):\n",
    "    clc = dict(nx.closeness_centrality(G))\n",
    "    print('Closeness centrality', clc)\n",
    "\n",
    "    clc = list(clc.values())\n",
    "    av_clc = np.mean(clc)\n",
    "    print('Average closeness centrality', av_clc)\n",
    "\n",
    "    return clc, av_clc\n",
    "\n",
    "# Função para plotar a distribuição da centralidade de proximidade do grafo.\n",
    "def closeness_centrality_distribution(clc):\n",
    "    # Distribuição de Closeness Centrality\n",
    "    plt.figure(figsize=(6,4))\n",
    "    plt.hist(clc, density=True)\n",
    "    plt.title(\"Distribution of the Closeness Centrality\", fontsize=20)\n",
    "    plt.ylabel(\"P(CLC)\", fontsize=20)\n",
    "    plt.xlabel(\"Closeness Centrality (CLC)\", fontsize=20)\n",
    "    plt.savefig('closeness.eps')\n",
    "    plt.show(True)\n",
    "\n",
    "    \n",
    "# Função para calcular a centralidade de intermediação do grafo.\n",
    "# Betweenness centrality: C(i) = sum_{s!=i!=t} (sigma(s,t|i)/sigma(s,t))\n",
    "def betweenness_centrality(G):\n",
    "    btc = dict(nx.betweenness_centrality(G))\n",
    "    print('Betweenness centrality', btc)\n",
    "\n",
    "    btc = list(btc.values())\n",
    "    av_btc = np.mean(btc)\n",
    "    print('Average betweenness centrality', av_btc)\n",
    "\n",
    "    return btc, av_btc\n",
    "\n",
    "# Função para plotar a distribuição da centralidade de intermediação do grafo.\n",
    "def betweenness_centrality_distribution(btc):\n",
    "    \n",
    "    # Distribuição de Betweenness Centrality\n",
    "    plt.figure(figsize=(6,4))\n",
    "    plt.hist(btc, density=True)\n",
    "    plt.title(\"Distribution of the Betweenness Centrality\", fontsize=20)\n",
    "    plt.ylabel(\"P(BTC)\", fontsize=20)\n",
    "    plt.xlabel(\"Betweenness Centrality (BTC)\", fontsize=20)\n",
    "    plt.savefig('betweenness.eps')\n",
    "    plt.show(True)\n",
    "\n",
    "    \n",
    "# Função para calcular a centralidade de autovetor do grafo.\n",
    "# Eigenvector centrality: C(i) = sum_{j=1}^{N} (A(i,j)*C(j))\n",
    "def eigenvector_centrality(G):\n",
    "    evec = dict(nx.eigenvector_centrality(G))\n",
    "    print('Eigenvector centrality', evec)\n",
    "\n",
    "    evec = list(evec.values())\n",
    "    av_evec = np.mean(evec)\n",
    "    print('Average eigenvector centrality', av_evec)\n",
    "\n",
    "    return evec, av_evec\n",
    "    \n",
    "# Função para plotar a distribuição da centralidade de autovetor do grafo.\n",
    "# A distribuição é feita em relação ao valor absoluto da centralidade de autovetor.\n",
    "def eigenvector_centrality_distribution(evec):\n",
    "    # Distribuição de Eigenvector Centrality\n",
    "    plt.figure(figsize=(6,4))\n",
    "    plt.hist(evec, density=True)\n",
    "    plt.title(\"Distribution of the Eigenvector Centrality\", fontsize=20)\n",
    "    plt.ylabel(\"P(EVC)\", fontsize=20)\n",
    "    plt.xlabel(\"Eigenvector Centrality (EVC)\", fontsize=20)\n",
    "    plt.savefig('eigenvector.eps')\n",
    "    plt.show(True)\n",
    "\n",
    "    \n",
    "# Função para calcular a centralidade de PageRank do grafo.\n",
    "# PageRank centrality: C(i) = (1-d)/N + d*sum_{j=1}^{N} (A(i,j)*C(j)/k(j))\n",
    "def pagerank(G):\n",
    "    pr = dict(nx.pagerank(G, alpha=0.85))\n",
    "    print('PageRank: ', pr)\n",
    "\n",
    "    pr = list(pr.values())\n",
    "    pr = np.array(pr)\n",
    "    av_pr = np.mean(pr)\n",
    "    print('Average PageRank centrality', av_pr)\n",
    "\n",
    "    B = dict(nx.betweenness_centrality(G))\n",
    "    B = list(B.values())\n",
    "    B = np.array(B)\n",
    "    plt.figure(figsize=(6,4))\n",
    "    plt.ylabel(\"Betweennees centrality\", fontsize = 20)\n",
    "    plt.xlabel(\"Page Rank\", fontsize = 20)\n",
    "    plt.plot(pr, B, 'ro')\n",
    "    plt.show(True)\n",
    "\n",
    "    return pr, av_pr\n",
    "\n",
    "# Função para plotar a distribuição da centralidade de PageRank do grafo.\n",
    "# A distribuição é feita em relação ao valor absoluto da centralidade de PageRank.\n",
    "def pagerank_distribution(pr):\n",
    "    # Distribuição de PageRank Centrality\n",
    "    plt.figure(figsize=(6,4))\n",
    "    plt.hist(pr, density=True)\n",
    "    plt.title(\"Distribution of the PageRank Centrality\", fontsize=20)\n",
    "    plt.ylabel(\"P(PRC)\", fontsize=20)\n",
    "    plt.xlabel(\"PageRank Centrality (PRC)\", fontsize=20)\n",
    "    plt.savefig('pagerank.eps')\n",
    "    plt.show(True)\n",
    "\n",
    "    \n",
    "# Função para calcular a centralidade de Katz do grafo.\n",
    "# Katz centrality: \n",
    "# C(i) = sum_{j=1}^{N} (A(i,j)*C(j)) + alpha*sum_{j=1}^{N} (A(i,j)*C(j))\n",
    "def k_core(G):\n",
    "    KC = dict(nx.core_number(G))\n",
    "    print('K-core: ', KC)\n",
    "    KC = list(KC.values())\n",
    "    KC = np.array(KC)\n",
    "\n",
    "    return KC\n",
    "\n",
    "# Função para plotar a distribuição da centralidade de K-core do grafo.\n",
    "# A distribuição é feita em relação ao valor absoluto da centralidade de K-core.\n",
    "def k_core_distribution(KC):\n",
    "    # Distribuição de K-core\n",
    "    plt.figure(figsize=(6,4))\n",
    "    plt.hist(KC, density=True)\n",
    "    plt.title(\"Distribution of the K-core\", fontsize=20)\n",
    "    plt.ylabel(\"P(KC)\", fontsize=20)\n",
    "    plt.xlabel(\"K-core (KC)\", fontsize=20)\n",
    "    plt.savefig('k-core.eps')\n",
    "    plt.show(True)\n",
    "\n",
    "    \n",
    "# Função para plotar a rede.\n",
    "def plotting_graph(G, node_size, node_color, with_labels):\n",
    "    plt.figure(figsize=(12,10))\n",
    "    pos = nx.spring_layout(G)\n",
    "    nx.draw(G, pos, node_color=node_color, \n",
    "            node_size=node_size, with_labels=with_labels)\n",
    "    plt.show(True)\n"
   ]
  },
  {
   "cell_type": "markdown",
   "metadata": {},
   "source": [
    "### Acessibilidade de Caminhadas Aleatórias"
   ]
  },
  {
   "cell_type": "code",
   "execution_count": 85,
   "metadata": {},
   "outputs": [],
   "source": [
    "# Função para calcular a acessibilidade do grafo.\n",
    "def acc(G):\n",
    "    N = len(G.nodes())\n",
    "    vk = dict(G.degree())\n",
    "    vk = list(vk.values())\n",
    "    A = nx.adjacency_matrix(G)\n",
    "    P = np.zeros((N,N), dtype = 'float')\n",
    "    for i in np.arange(0, N):\n",
    "        for j in np.arange(0, N):\n",
    "            if(vk[i] > 0):\n",
    "                P[i,j] = A[i,j]/vk[i]\n",
    "    P2 = expm(P)/np.exp(1)\n",
    "    vacc = np.zeros(N, dtype = float)\n",
    "    for i in np.arange(0, N):\n",
    "        acc = 0\n",
    "        for j in np.arange(0,N):\n",
    "            if(P2[i,j] > 0):\n",
    "                acc = acc + P2[i,j]*np.log(P2[i,j])\n",
    "        acc = np.exp(-acc)\n",
    "        vacc[i] = acc\n",
    "    \n",
    "    print('ACC: ', vacc)\n",
    "\n",
    "\n",
    "    plt.figure(figsize=(6,6))\n",
    "    pos=nx.spring_layout(G)\n",
    "    nx.draw(G, with_labels = True, pos = pos)\n",
    "    plt.show(True)  \n",
    "\n",
    "    return vacc\n",
    "\n",
    "\n",
    "# Função para calcular a acessibilidade do grafo de acordo com o \n",
    "# modelo de Hub and Leaves.\n",
    "def hub_acc(N):\n",
    "    x = np.cosh(1)/np.exp(1)\n",
    "    y = np.sinh(1)/np.exp(1)\n",
    "    acchub = np.exp(-x*np.log(x) -y*np.log(y/(N-1)))\n",
    "    print('Hub acc:', acchub)\n",
    "    # Accessibility of the leaves\n",
    "    x = np.sinh(1)/np.exp(1)\n",
    "    y = (np.cosh(1)-1)/(np.exp(1)*(N-1))\n",
    "    accleaves = np.exp(-x*np.log(x) - (N-2)*y*np.log(y) \\\n",
    "                       - (1/np.exp(1) + y)*np.log(1/np.exp(1) + y))\n",
    "    print('Leaves acc:', accleaves)\n",
    "\n",
    "    return acchub, accleaves"
   ]
  },
  {
   "cell_type": "markdown",
   "metadata": {},
   "source": [
    "### Correlação entre medidas de centralidade"
   ]
  },
  {
   "cell_type": "code",
   "execution_count": 86,
   "metadata": {},
   "outputs": [],
   "source": [
    "# Função para calcular a matriz de correlações entre as centralidades.\n",
    "def centralities_df(G):\n",
    "    vk = degree_centrality(G)\n",
    "    clc, av_clc = closeness_centrality(G)\n",
    "    btc, av_btc = betweenness_centrality(G)\n",
    "    evec, av_evec = eigenvector_centrality(G)\n",
    "    pr, av_pr = pagerank(G)\n",
    "    KC = k_core(G)\n",
    "    df = pd.dataframe({'Degree': vk, 'Closeness': clc, 'Betweenness': btc, \\\n",
    "                    'Eigenvector': evec, 'PageRank': pr, 'K-core': KC})\n",
    "    \n",
    "    return df\n",
    "\n",
    "# Função para plotar a matriz de correlação entre as centralidades.\n",
    "def correlation_matrix(df):\n",
    "    corr = df.corr()\n",
    "    #Plot Correlation Matrix using Matplotlib\n",
    "    plt.figure(figsize=(8,8))\n",
    "    plt.imshow(corr, cmap='Blues', interpolation='none', aspect='auto')\n",
    "    plt.colorbar()\n",
    "    plt.xticks(range(len(corr)), corr.columns, rotation='vertical', fontsize=20)\n",
    "    plt.yticks(range(len(corr)), corr.columns, fontsize=20)\n",
    "    plt.suptitle('Correlation between centrality measures', fontsize=20)\n",
    "    plt.grid(False)\n",
    "    plt.show()\n",
    "\n",
    "# Função para plotar a matriz de correlação entre as centralidades usando o Seaborn.\n",
    "def correlogram(df):\n",
    "    sns.pairplot(df)\n",
    "    plt.show(True)\n",
    "\n",
    "# Função para plotar o mapa de calor da matriz de correlação entre as centralidades.\n",
    "def heatmap(df):\n",
    "    corr = df.corr()\n",
    "    plt.figure(figsize=(7, 7))\n",
    "    mask = np.zeros_like(corr)\n",
    "    mask[np.triu_indices_from(mask)] = True\n",
    "    with sns.axes_style(\"white\"):ax = sns.heatmap(corr, mask=mask, vmax=1, square=True)\n",
    "    plt.show()"
   ]
  },
  {
   "cell_type": "markdown",
   "metadata": {},
   "source": [
    "# Questões"
   ]
  },
  {
   "cell_type": "markdown",
   "metadata": {},
   "source": [
    "## Questão 1)\n",
    "\n",
    "A média medida eigenvector centrality da rede USairport500 é igual a quanto? Considere apenas o maior componente. Use:\n",
    "\n",
    "\n",
    "G = G.to_undirected()\n",
    "\n",
    "G.remove_edges_from(nx.selfloop_edges(G))\n",
    "\n",
    "Gcc = sorted(nx.connected_components(G), key=len, reverse=True)\n",
    "\n",
    "G = G.subgraph(Gcc[0])\n",
    "\n",
    "G = nx.convert_node_labels_to_integers(G, first_label=0)"
   ]
  },
  {
   "cell_type": "code",
   "execution_count": 87,
   "metadata": {},
   "outputs": [
    {
     "name": "stdout",
     "output_type": "stream",
     "text": [
      "Number of nodes: 500\n",
      "Number of edges: 2980\n",
      "Eigenvector centrality {0: 0.19076801166001284, 1: 0.03636566857696688, 2: 0.0691626602921969, 3: 0.003968107284167804, 4: 0.008793199264018935, 5: 0.07118060019092086, 6: 0.04546430744771243, 7: 0.07323642015910903, 8: 0.01730443424706561, 9: 0.017922732745642947, 10: 0.0897698767865774, 11: 0.07380066147981246, 12: 0.02184958926877229, 13: 0.12467071731482425, 14: 0.131436508778258, 15: 0.003968107284167804, 16: 0.023602572915143526, 17: 0.07362620372650132, 18: 0.13953024621380883, 19: 0.04641141422804443, 20: 0.02448577438054315, 21: 0.01743753895063849, 22: 0.02329810285937023, 23: 0.04561503424842579, 24: 0.13802628925967486, 25: 0.14913393470874747, 26: 0.09676493405122416, 27: 0.046025725596912495, 28: 0.012354640796703582, 29: 0.03949654624376495, 30: 0.007070203451269203, 31: 0.17727093382439202, 32: 0.016769651517526653, 33: 0.020450615709312264, 34: 0.06667976179297104, 35: 0.1307198987514137, 36: 0.15277202028115405, 37: 0.178220963174855, 38: 0.003968107284167804, 39: 0.055729220240326824, 40: 0.17164277616103304, 41: 0.04195250711625148, 42: 0.03904556849406355, 43: 0.024411590019981076, 44: 0.15765411989902897, 45: 0.015933276353720088, 46: 0.007070203451269203, 47: 0.11045179545981951, 48: 0.007070203451269203, 49: 0.023785082901141796, 50: 0.03036741715581729, 51: 0.007070203451269203, 52: 0.015093465194156606, 53: 0.04789873739987913, 54: 0.054765337242057135, 55: 0.052417044930420646, 56: 0.007027048055551268, 57: 0.06024746255873431, 58: 0.05125777341261348, 59: 0.03208210996123011, 60: 0.010306154231507799, 61: 0.1433965905686998, 62: 0.1647089148634667, 63: 0.039845149707104524, 64: 0.007070203451269203, 65: 0.10412965812343865, 66: 0.03822179922759552, 67: 0.023736061662384064, 68: 0.030626241138903783, 69: 0.07899055042970035, 70: 0.10426191912390068, 71: 0.14538830595851127, 72: 0.1305730747548183, 73: 0.04452683796081659, 74: 0.12236632646383999, 75: 0.051518769249579384, 76: 0.010306154231507799, 77: 0.013445954537831959, 78: 0.13255283905443035, 79: 0.00405240659391961, 80: 0.14131982671016888, 81: 0.03993493965440481, 82: 0.12183587048577096, 83: 0.007027048055551268, 84: 0.13405424183146294, 85: 0.013565846232250564, 86: 0.05911099399283699, 87: 0.10556692525285034, 88: 0.11336843615852601, 89: 0.013557129556524994, 90: 0.02953615789255918, 91: 0.015258923332102341, 92: 0.016991965945632747, 93: 0.1687564283342404, 94: 0.10318523673294937, 95: 0.036402464310835984, 96: 0.07027731064732098, 97: 0.057556641696638516, 98: 0.0640671815252695, 99: 0.05147273225303344, 100: 0.1870853987823847, 101: 0.06858887380579916, 102: 0.012075124723873064, 103: 0.06574922570754545, 104: 0.07714388749180578, 105: 0.016413733639589635, 106: 0.01984075547810744, 107: 0.1509460609738213, 108: 0.15031223080279166, 109: 0.02245695061131839, 110: 0.15556935168381586, 111: 0.03241633495817427, 112: 0.04155871879915466, 113: 0.06969059310021822, 114: 0.04398427562542109, 115: 0.10466511325904888, 116: 0.057250301612573606, 117: 0.030607854462182175, 118: 0.05723369269777781, 119: 0.08442687001654332, 120: 0.09941480568792874, 121: 0.07388172721927172, 122: 0.037214095036371526, 123: 0.02766775864521194, 124: 0.08472968623525218, 125: 0.10969080771664504, 126: 0.10946130281273828, 127: 0.01930617730403627, 128: 0.07437787165950874, 129: 0.09878603327440083, 130: 0.059839661332752196, 131: 0.06430432231780003, 132: 0.032285336736858676, 133: 0.1571985455824212, 134: 0.017669562910499016, 135: 0.05492494226975165, 136: 0.03098462390447495, 137: 0.02305357477541992, 138: 0.12562914303171796, 139: 0.019375281742980383, 140: 0.05153285727673236, 141: 0.04750801712931773, 142: 0.05605176020298892, 143: 0.00405240659391961, 144: 0.02004536787874259, 145: 0.029455980643066152, 146: 0.01067174067439663, 147: 0.018470547640015253, 148: 0.017895440547722734, 149: 0.04134768831555434, 150: 0.038323190609792376, 151: 0.034382321233113404, 152: 0.011186230195813095, 153: 0.01392132326983523, 154: 0.00764774681442974, 155: 0.00860477757645928, 156: 0.011620047037360012, 157: 0.013849622082127838, 158: 0.026524329531578288, 159: 0.017764974993616244, 160: 0.020992369765546193, 161: 0.052177583547491774, 162: 0.004039751429278868, 163: 0.020327114242528043, 164: 0.02469987870891828, 165: 0.01660690195858775, 166: 0.011821336418423974, 167: 0.014208083958597599, 168: 0.010600569510660149, 169: 0.010644926234302405, 170: 0.041432190376066526, 171: 0.020608761396718717, 172: 0.0038915177857872505, 173: 0.042299201028282205, 174: 0.008442165629628805, 175: 0.027713166151006673, 176: 0.012557643589692002, 177: 0.01373795813183683, 178: 0.004747508587878141, 179: 0.0037071816565244567, 180: 0.010067938969545125, 181: 0.01623991387086453, 182: 0.007133301369906642, 183: 0.024538901875769303, 184: 0.0037071816565244567, 185: 0.007133301369906642, 186: 0.015047004142975558, 187: 0.0037071816565244567, 188: 0.024037557029331448, 189: 0.009765544757102868, 190: 0.0037071816565244567, 191: 0.0129044925755284, 192: 0.003708786395502371, 193: 0.015997509127605707, 194: 0.05001128325958113, 195: 0.007133301369906642, 196: 0.0037071816565244567, 197: 0.015397713423869759, 198: 0.010067938969545125, 199: 0.007133301369906642, 200: 0.016650945566498893, 201: 0.007133301369906642, 202: 0.02537147028995723, 203: 0.0038520743822195117, 204: 0.004747508587878141, 205: 0.004747508587878141, 206: 0.0037071816565244567, 207: 0.0037071816565244567, 208: 0.0069651957570546095, 209: 0.017596498512971136, 210: 0.008119835068295153, 211: 0.0201659504126814, 212: 0.005842843748928371, 213: 0.016224585047379256, 214: 0.002716131205267977, 215: 0.002716131205267977, 216: 0.011364829962884557, 217: 0.006606306047954938, 218: 0.012006376708294365, 219: 0.008119835068295153, 220: 0.002716131205267977, 221: 0.01792414183334474, 222: 0.008119835068295153, 223: 0.002716131205267977, 224: 0.007912970490663243, 225: 0.003216161273604564, 226: 0.005842843748928371, 227: 0.020141179080521106, 228: 0.003126712543660393, 229: 0.00819101830234234, 230: 0.008359526853694888, 231: 0.003194201997100822, 232: 0.003126712543660393, 233: 0.006448820938141444, 234: 0.006474983918565088, 235: 0.0032453930355706806, 236: 0.0031778814077312073, 237: 0.0031778814077312073, 238: 0.007733440472903651, 239: 0.0032453930355706806, 240: 0.0031778814077312073, 241: 0.0032443272365146377, 242: 0.005439603677260603, 243: 0.00573051383847694, 244: 0.0031778814077312073, 245: 0.0031827926290620956, 246: 0.0031806634453115964, 247: 0.0037838219164261387, 248: 0.006066608822673182, 249: 0.005995111018882108, 250: 0.006225383178580944, 251: 0.0032910384797995283, 252: 0.0032454509512445705, 253: 0.0033655156273245702, 254: 0.0032481762783579627, 255: 0.012948084054384558, 256: 0.006843399308982749, 257: 0.013223069936880282, 258: 0.0031778814077312073, 259: 0.008743135222522366, 260: 0.003247748160964667, 261: 0.0032910384797995283, 262: 0.004616600262235036, 263: 0.0032565946817275466, 264: 0.0031778814077312073, 265: 0.0033585991167513858, 266: 0.0037302779341476518, 267: 0.0037302779341476518, 268: 0.0036742053066422813, 269: 0.003510320912487872, 270: 0.0047914989383685755, 271: 0.0037317540827420505, 272: 0.003633968645234268, 273: 0.0068077493986441005, 274: 0.009532891085079346, 275: 0.0045542084053456664, 276: 0.0035885600601844162, 277: 0.013172995787171097, 278: 0.003871084867452689, 279: 0.003945959579388694, 280: 0.0035943583257139946, 281: 0.003511840466071052, 282: 0.003511840466071052, 283: 0.004550647843841555, 284: 0.00594412698138159, 285: 0.0037610800305847383, 286: 0.00678022288860938, 287: 0.026888668367760795, 288: 0.003571839774881904, 289: 0.019613302671065067, 290: 0.014511512323600737, 291: 0.006806245260322476, 292: 0.0068401964562053875, 293: 0.0036437572098193746, 294: 0.013850382509278563, 295: 0.004367751598085608, 296: 0.0030242818129600944, 297: 0.0032699019761215087, 298: 0.0032699019761215087, 299: 0.0032699019761215087, 300: 0.0032699019761215087, 301: 0.006058363100578412, 302: 0.0032699019761215087, 303: 0.0032699019761215087, 304: 0.0032699019761215087, 305: 0.006058363100578412, 306: 0.0035311262252917253, 307: 0.0034261197133821845, 308: 0.0034261197133821845, 309: 0.0034261197133821845, 310: 0.0034261197133821845, 311: 0.0031020961671013978, 312: 0.0031020961671013978, 313: 0.004745206312185639, 314: 0.005279262693820664, 315: 0.0031020961671013978, 316: 0.005315557653734807, 317: 0.0023875658256628618, 318: 0.002276991319366783, 319: 0.002276991319366783, 320: 0.006699019886481273, 321: 0.006163532959365994, 322: 0.00433192422167007, 323: 0.0022817814631273664, 324: 0.0022838012379330355, 325: 0.00332210839448105, 326: 0.005796532679777508, 327: 0.0022817814631273664, 328: 0.0022817814631273664, 329: 0.008254673993010124, 330: 0.003338304571811057, 331: 0.0024075930965002015, 332: 0.0031907522093571335, 333: 0.0028335502588222824, 334: 0.006366670613115706, 335: 0.002348156057464989, 336: 0.0024013058892247605, 337: 0.00332210839448105, 338: 0.01820609899631267, 339: 0.011591059900753504, 340: 0.017723677468115005, 341: 0.003139800306324159, 342: 0.003139800306324159, 343: 0.007206452262859808, 344: 0.013507423347305179, 345: 0.007225743383867102, 346: 0.02129614892132643, 347: 0.006375751086562755, 348: 0.011997205694071344, 349: 0.007550679432970787, 350: 0.010200709260068589, 351: 0.006993645647786761, 352: 0.0081297618125023, 353: 0.0027933127093406054, 354: 0.0027933127093406054, 355: 0.0027340256537734474, 356: 0.0028502318741636242, 357: 0.0028843257757408, 358: 0.0033734949982138756, 359: 0.0032388126636270585, 360: 0.0032359507802385973, 361: 0.006350838358022751, 362: 0.006350838358022751, 363: 0.0033734949982138756, 364: 0.0033061240371596167, 365: 0.006138316204023654, 366: 0.0033061240371596167, 367: 0.0033061240371596167, 368: 0.0032359507802385973, 369: 0.0033061240371596167, 370: 0.0033814307172850737, 371: 0.0032359507802385973, 372: 0.0032359507802385973, 373: 0.0034770539639146026, 374: 0.005146892969649748, 375: 0.002054932902303287, 376: 0.002934848251545074, 377: 0.007819433758763268, 378: 0.001889708372561578, 379: 0.001085406969525595, 380: 0.001889708372561578, 381: 0.0019282188519592046, 382: 0.002953487447838086, 383: 0.0027572798764599134, 384: 0.0028819896440470125, 385: 0.0027572798764599134, 386: 0.0016047601768718453, 387: 0.0016047601768718453, 388: 0.001879830236392861, 389: 0.0031058768521898482, 390: 0.0027884611244569034, 391: 0.0029346375996384833, 392: 0.0029346375996384833, 393: 0.0014387188545038289, 394: 0.0014692825206831244, 395: 0.0014387188545038289, 396: 0.0014387188545038289, 397: 0.0014692825206831244, 398: 0.0014387188545038289, 399: 0.0035318688456637544, 400: 0.0009662655258366231, 401: 0.0009859551313751943, 402: 0.000989221973364084, 403: 0.0009930630626239574, 404: 0.0009457565183011168, 405: 0.0009476115242749536, 406: 0.0009662655258366231, 407: 0.0009457565183011168, 408: 0.0009883538959779136, 409: 0.0009457565183011168, 410: 0.0011001118464140567, 411: 0.0009465940833114318, 412: 0.001012251236079187, 413: 0.0009971410370406494, 414: 0.0009775947326926616, 415: 0.0011339656758311057, 416: 0.0009457565183011168, 417: 0.0014978602630171282, 418: 0.0008283314958024835, 419: 0.000141816291028114, 420: 0.00014161471788173358, 421: 0.000168778083657627, 422: 0.00016649360675496523, 423: 0.00017221778523626225, 424: 0.00016598999752119673, 425: 0.000168778083657627, 426: 7.094822187837315e-05, 427: 6.944194467425594e-05, 428: 7.239433186083121e-05, 429: 7.093983679478678e-05, 430: 7.19911432805345e-05, 431: 7.094822187837315e-05, 432: 8.915309605712382e-05, 433: 0.0004189862544461056, 434: 0.00042799048897220864, 435: 0.0004189862544461056, 436: 0.0004328015866723376, 437: 5.223389135944495e-05, 438: 5.116926180161337e-05, 439: 5.223389135944495e-05, 440: 5.116926180161337e-05, 441: 5.008248142313822e-05, 442: 5.1580373543669064e-05, 443: 0.00038128892120583766, 444: 2.1553842376669035e-05, 445: 4.211005522715636e-05, 446: 2.109620487144913e-05, 447: 2.111392287102074e-05, 448: 2.1095827474528416e-05, 449: 4.259737767679681e-05, 450: 4.211005522715636e-05, 451: 2.1553842376669035e-05, 452: 2.1095827474528416e-05, 453: 2.1553842376669035e-05, 454: 2.0674957250829532e-05, 455: 0.0008216764371410638, 456: 4.62588867973458e-05, 457: 2.1642813107255606e-05, 458: 6.912845228955097e-05, 459: 2.2556137693948483e-05, 460: 2.1671191553247615e-05, 461: 4.576828167280507e-05, 462: 2.119207972415207e-05, 463: 2.2173624689527868e-05, 464: 2.211235515585736e-05, 465: 4.484009409508943e-05, 466: 2.124030062923675e-05, 467: 2.7707250833266983e-05, 468: 2.1219830083093053e-05, 469: 2.07765652509699e-05, 470: 2.187812018028767e-05, 471: 2.1201168794588806e-05, 472: 2.470648214032303e-05, 473: 2.084926035450142e-05, 474: 2.174589093323957e-05, 475: 2.077617594147758e-05, 476: 0.00023608948888854326, 477: 0.00017117267174526272, 478: 3.087582716790027e-06, 479: 3.087582716790027e-06, 480: 3.512575569901255e-06, 481: 7.305473607524398e-05, 482: 2.0126187478369207e-05, 483: 2.0126187478369207e-05, 484: 4.8559200737445736e-05, 485: 1.0317919620805739e-06, 486: 1.0317919620805739e-06, 487: 4.851714410377715e-05, 488: 7.430142400026727e-05, 489: 3.348907692493827e-05, 490: 2.4521156163796553e-05, 491: 7.305473607524398e-05, 492: 6.88031407978831e-05, 493: 6.88031407978831e-05, 494: 1.4045134270235953e-06, 495: 8.375650103151371e-07, 496: 7.715215634941715e-05, 497: 0.00013373463593570643, 498: 8.695390163144525e-07, 499: 4.25014239462886e-05}\n",
      "Average eigenvector centrality 0.022754398239423664\n"
     ]
    }
   ],
   "source": [
    "# Padronizo a rede para a análise\n",
    "usa = padronizar_rede(usa)\n",
    "\n",
    "# Calculo e salvo a eigenvector centrality\n",
    "evec, av_evec = eigenvector_centrality(usa)"
   ]
  },
  {
   "cell_type": "markdown",
   "metadata": {},
   "source": [
    "## Questão 2)\n",
    "\n",
    "Calcule a correlação de Pearson entre a medida betweeness centrality e grau para a rede hamsterster"
   ]
  },
  {
   "cell_type": "code",
   "execution_count": 88,
   "metadata": {},
   "outputs": [
    {
     "name": "stdout",
     "output_type": "stream",
     "text": [
      "Number of nodes: 1788\n",
      "Number of edges: 12476\n",
      "Betweenness centrality {0: 0.0032301395159124173, 1: 0.004359163634432046, 2: 4.69760984669588e-06, 3: 0.0019246756055983022, 4: 0.0015897108730727908, 5: 0.008317832920302798, 6: 0.00042458389219936216, 7: 1.9738944899129653e-05, 8: 0.023830285305123603, 9: 0.011152942491924013, 10: 0.004368348881463037, 11: 0.0034727280151145012, 12: 0.005163274835100675, 13: 0.00411887790194941, 14: 0.02975972399325523, 15: 0.05758339013331758, 16: 0.0002996185250389925, 17: 0.0009208796235972814, 18: 0.01340604707192026, 19: 0.0, 20: 0.004584667123603669, 21: 0.005518916467675661, 22: 0.00024335317825260338, 23: 7.846059838832014e-06, 24: 0.009177311193294593, 25: 0.0015066002983463687, 26: 0.0015066002983463687, 27: 0.0035460458888329164, 28: 0.008128163481218163, 29: 0.01456782086301145, 30: 0.01794811494908073, 31: 0.03539561691905463, 32: 0.0018450219333241019, 33: 0.006158468825870166, 34: 0.0010998920747460827, 35: 0.01315125260071138, 36: 0.010443397043085126, 37: 0.0061497432766047895, 38: 0.0052007215141549315, 39: 0.019465641866217506, 40: 0.003469309000830436, 41: 0.00012548841738266715, 42: 0.0028050061976056012, 43: 0.00033341798034254154, 44: 0.003505131998907659, 45: 0.01633859321236827, 46: 0.00013260108141930146, 47: 0.001039785809020076, 48: 0.004013166112257247, 49: 0.0021809684581901513, 50: 0.004860539143558089, 51: 0.009864301556491392, 52: 0.004626363796517929, 53: 0.0010896179524670369, 54: 0.000814158618113271, 55: 0.0001627470414298916, 56: 0.014707877195963694, 57: 0.013338088811359098, 58: 0.017631385310525775, 59: 0.01913015983370705, 60: 0.003457247981737302, 61: 0.000311390037939553, 62: 0.006790515545632659, 63: 0.003468723116118992, 64: 0.00015196487270031347, 65: 0.00015196487270031347, 66: 0.0001996339232116195, 67: 0.00015196487270031347, 68: 0.0006727850771844063, 69: 0.0010457217131425842, 70: 0.0041673660609774935, 71: 0.00016681176685709624, 72: 0.001411225397257112, 73: 0.001026248651746843, 74: 0.0018465807027293491, 75: 0.003145803611059096, 76: 0.006660184154981398, 77: 0.009096052921758628, 78: 0.005536474915711002, 79: 0.004481773430896323, 80: 0.006994326179273628, 81: 0.011509543698832682, 82: 0.0018346293667692057, 83: 0.011351169644831618, 84: 0.012207537401945542, 85: 0.007718897400248803, 86: 0.0036240508236875277, 87: 0.009293552551898428, 88: 0.0028074063578143165, 89: 0.038300620118346194, 90: 0.04171701298003489, 91: 0.08590673166728899, 92: 0.02403714004279424, 93: 0.028985523754125914, 94: 0.01238636649372942, 95: 0.0006107644319630448, 96: 0.0006438584807527862, 97: 0.0009792715527073453, 98: 0.0009792715527073453, 99: 0.001328653300412843, 100: 0.016541750489586893, 101: 0.00323728389706646, 102: 0.0016166575922339182, 103: 0.00022844752094370292, 104: 0.0020830344618736805, 105: 0.0022022521483994794, 106: 0.00706383355249926, 107: 0.0008509059046008373, 108: 0.00445843223238409, 109: 0.01483392700871031, 110: 0.001975198866392222, 111: 3.042542615515838e-05, 112: 0.008911844083119083, 113: 0.0001604083225255866, 114: 0.0038533012578331914, 115: 0.0004919245803809217, 116: 9.47191207334695e-05, 117: 0.001821587124574334, 118: 0.010744998556621397, 119: 0.0010057883392653043, 120: 7.190886596763495e-05, 121: 7.190886596763495e-05, 122: 0.0023843185047872496, 123: 0.003646770746533557, 124: 0.010001688666408328, 125: 0.0010572297813331581, 126: 0.012998049967376874, 127: 0.004954877049937558, 128: 0.004713561458370989, 129: 0.005517787781009823, 130: 0.006435768678523967, 131: 0.009799300928157003, 132: 0.06437674663703537, 133: 0.01468274901832459, 134: 0.014173042156087902, 135: 0.0015256371730555276, 136: 0.0050332475441469005, 137: 0.00013368713698615488, 138: 0.0012464116387433178, 139: 0.0008961217248768617, 140: 0.0007680632847780692, 141: 2.9882093291035823e-06, 142: 2.9882093291035823e-06, 143: 0.01941513985881172, 144: 0.0020214632115071554, 145: 0.003348604457707404, 146: 9.46782132757649e-05, 147: 0.028093312324980822, 148: 0.023387232098340805, 149: 0.016933374968589984, 150: 0.0002455581672687224, 151: 0.002931611761768945, 152: 0.002195245431403962, 153: 0.005688232307246163, 154: 1.611066176711412e-05, 155: 0.0014217447257817875, 156: 0.0008505107533094458, 157: 0.0005671322863275567, 158: 0.00047314382057876486, 159: 0.012098194428096712, 160: 0.0062026444954327, 161: 0.028696205627085337, 162: 4.2088171231832105e-06, 163: 0.00029229446756897634, 164: 6.203592954802588e-05, 165: 0.0024839144944354538, 166: 2.739024176615719e-05, 167: 0.0008990710997460248, 168: 0.008618425067039286, 169: 0.0, 170: 1.524453621658979e-05, 171: 0.007989795810557334, 172: 0.007600212804526925, 173: 0.0, 174: 4.7181523937690306e-05, 175: 0.00041476170890561177, 176: 0.00041476170890561177, 177: 0.00041476170890561177, 178: 0.00041476170890561177, 179: 0.00041476170890561177, 180: 0.00041476170890561177, 181: 0.0007676289278645814, 182: 0.0012457189820508285, 183: 0.0009264066024594559, 184: 0.000134549725435915, 185: 0.005966965891186776, 186: 0.0, 187: 0.003355075946662188, 188: 0.0, 189: 0.0, 190: 0.004561362006014712, 191: 0.0006411024343010842, 192: 3.430040893801206e-06, 193: 0.005931178506203959, 194: 0.000589794246790961, 195: 0.00010294845421570287, 196: 0.010971520998009712, 197: 0.00012293128766826145, 198: 4.4664369399632e-05, 199: 0.0002676309493313283, 200: 1.0606863347294788e-05, 201: 0.0187582855775388, 202: 0.0002927135102604529, 203: 0.00456189604953515, 204: 0.0027976988722882247, 205: 0.006479407958494214, 206: 1.0379405161184201e-05, 207: 0.0, 208: 0.0033550759466621878, 209: 0.0011191941801902629, 210: 0.0055859445253169104, 211: 0.0013483124457691611, 212: 0.0022377617119033757, 213: 0.0, 214: 1.1867662436938233e-07, 215: 0.004985966847712789, 216: 0.00038936575969493085, 217: 0.004058872817733076, 218: 0.0016689200048575997, 219: 8.299842100467575e-06, 220: 0.0021797112280743515, 221: 1.1193343481994867e-06, 222: 0.0005247052495661794, 223: 0.0007494548917464997, 224: 5.771263733249119e-05, 225: 0.01459054866414325, 226: 0.0001812034919245125, 227: 8.382115053187903e-05, 228: 0.0017548183045232805, 229: 0.003162886260312043, 230: 0.019447063059482024, 231: 0.0009653746176833133, 232: 0.0012113438836545292, 233: 0.0018026005462949632, 234: 0.00013357461319017403, 235: 0.0004537513129167035, 236: 0.0001879139037157232, 237: 0.0032578845165590984, 238: 0.006358821314018319, 239: 0.00890773183662295, 240: 9.994288702670473e-06, 241: 4.48819056357612e-06, 242: 1.0165284650684202e-05, 243: 0.0011616755054030723, 244: 0.003081672578222522, 245: 0.0006253544985092154, 246: 0.019532379867136983, 247: 0.005068606402998974, 248: 2.530279917010356e-06, 249: 0.0004364344537156895, 250: 0.013717961052602173, 251: 0.0004887622738899771, 252: 0.00098318480044179, 253: 0.00227976442577464, 254: 0.002247183039179531, 255: 0.0023154401768355304, 256: 0.0031001372124174107, 257: 0.0033413782289880584, 258: 0.000755730768688253, 259: 0.009701598248427739, 260: 0.011630203442207939, 261: 0.0010537944600007856, 262: 0.00044705591601623787, 263: 0.00011323302593380226, 264: 0.002279010597115326, 265: 0.0007750188972633499, 266: 0.011568740276224584, 267: 0.008908380756238643, 268: 0.009195029371890066, 269: 0.00873773320828671, 270: 0.005369245303895241, 271: 3.012507347150963e-05, 272: 3.846563460651609e-05, 273: 0.00462976241269254, 274: 2.0725656199162613e-05, 275: 0.0004121662356181711, 276: 0.0021743358555831776, 277: 4.606540841091966e-05, 278: 0.007327098104017002, 279: 5.489484030570167e-05, 280: 0.0011011851248824089, 281: 5.190827271493427e-07, 282: 8.060911056858901e-05, 283: 0.0, 284: 0.0011202886322238415, 285: 0.002003099274490815, 286: 0.0021476652297382505, 287: 0.0028642647366923283, 288: 3.9538263956257e-05, 289: 0.002285554181314699, 290: 0.0019460077271805187, 291: 0.0020419846869782973, 292: 0.0020419846869782973, 293: 0.0012702801233610357, 294: 0.0012702801233610357, 295: 0.0031194410053368557, 296: 0.0027019557641645357, 297: 2.9840403673819203e-08, 298: 0.0005923010143058205, 299: 4.427953117691065e-05, 300: 2.2295535533064504e-05, 301: 0.00018868736292772018, 302: 0.0023303227187587336, 303: 0.005365696277318842, 304: 0.0010266307556729788, 305: 5.4950361366434254e-05, 306: 1.3483368829607346e-05, 307: 1.711502445918657e-05, 308: 1.711502445918657e-05, 309: 0.00488211698856793, 310: 0.001285497040480593, 311: 0.0018714659339300543, 312: 0.0013749627990919744, 313: 0.0012107068206691372, 314: 0.003019787982255786, 315: 0.004191377391977106, 316: 0.0040570925916334506, 317: 0.0007630446647949099, 318: 0.00035039274008204024, 319: 0.0011186358264700773, 320: 0.003881336487013537, 321: 0.0005325230502269345, 322: 0.005492254223695413, 323: 0.0030212277194861803, 324: 0.007227341713326301, 325: 0.004245919738977088, 326: 0.00690891311800369, 327: 2.5441994472621015e-05, 328: 9.126222551909326e-05, 329: 0.00022078884675862638, 330: 0.0031389326948844444, 331: 0.006799633703291437, 332: 0.00797497144446584, 333: 0.0020047125736920115, 334: 0.005336694180839002, 335: 0.0008374968725219879, 336: 0.00042667711071705356, 337: 0.01572769780016591, 338: 0.0013507449530354531, 339: 0.0005762194834153096, 340: 0.003392240499581628, 341: 0.00021419579843134982, 342: 0.008305046475939491, 343: 0.0025867975558063576, 344: 0.0015955135466469827, 345: 1.4929342233886006e-05, 346: 1.4929342233886006e-05, 347: 2.061248935214323e-06, 348: 1.3624575138329432e-06, 349: 0.0005204431165621262, 350: 0.0076792433963413405, 351: 0.0015894521800688744, 352: 0.0002891566900545674, 353: 0.0018986533732388356, 354: 0.002091884910755685, 355: 0.0, 356: 0.016539936347812333, 357: 0.0, 358: 0.0047235440758052975, 359: 3.458701689172658e-05, 360: 0.005137537547763534, 361: 0.0010899849505282254, 362: 4.4836685655994607e-07, 363: 0.001159738129244195, 364: 4.4836685655994607e-07, 365: 0.00045608038350575556, 366: 0.0014481138963165783, 367: 0.0023985809539844656, 368: 0.002323158807343872, 369: 0.00013028851901271965, 370: 2.906323113362793e-06, 371: 2.906323113362793e-06, 372: 2.906323113362793e-06, 373: 3.539911406652604e-05, 374: 3.539911406652604e-05, 375: 3.539911406652604e-05, 376: 0.0007668079116159239, 377: 0.0014124705973290737, 378: 5.584535959978677e-05, 379: 0.008456938536783127, 380: 0.0023901023494251766, 381: 0.0008798966198747838, 382: 0.0008798966198747838, 383: 0.0008798966198747838, 384: 0.0010917962637555692, 385: 0.0019453397478598113, 386: 0.0028720044272191715, 387: 4.4836685655994607e-07, 388: 4.4836685655994607e-07, 389: 0.0026101939350591913, 390: 0.004374276397355993, 391: 0.0015892105528254438, 392: 5.6322790282896504e-05, 393: 0.0005608273183693495, 394: 0.0021436736844360534, 395: 0.00012991419875296584, 396: 0.00014521108847087786, 397: 0.00036306753893731346, 398: 9.3324132556659e-05, 399: 0.00013888441494221937, 400: 0.00011350770863982035, 401: 0.00019855743137068516, 402: 0.002658546038515896, 403: 0.0021419786029961995, 404: 0.0019351287102239957, 405: 0.0001595911281054786, 406: 0.0010293778586273358, 407: 0.0029601682845749556, 408: 0.0005942740377013387, 409: 0.00995764953505694, 410: 0.0010491870349105534, 411: 0.0012100222380173422, 412: 0.002773219625192989, 413: 0.0, 414: 0.005377503333115282, 415: 0.0, 416: 0.0011193070690703377, 417: 3.828997993293747e-05, 418: 3.5270326022256697e-05, 419: 0.0, 420: 8.493143908425037e-05, 421: 0.0009104401387429138, 422: 1.9768293621197914e-07, 423: 1.9768293621197914e-07, 424: 0.0016331133478828272, 425: 8.057225567555991e-05, 426: 0.00047338401123746, 427: 0.003234806696493975, 428: 0.0004488001571362678, 429: 0.0, 430: 0.0, 431: 0.010027628931357552, 432: 0.008926607557004645, 433: 0.0001137186115551983, 434: 0.0004538393476957887, 435: 0.00026080233809083086, 436: 0.00036574987543298225, 437: 0.00025915525194431904, 438: 0.0002680837675680007, 439: 0.0, 440: 0.0, 441: 3.475268116867282e-06, 442: 0.0003700111441380792, 443: 1.337810729156601e-06, 444: 8.771530300045117e-05, 445: 7.58283819811531e-05, 446: 4.875389538282689e-05, 447: 0.0016226026432226179, 448: 0.017805522834826656, 449: 6.08285508909033e-07, 450: 0.00014045355063518024, 451: 1.693479931786288e-05, 452: 0.0, 453: 0.0022383970744186956, 454: 0.0, 455: 0.0, 456: 0.0, 457: 5.1507276604236504e-05, 458: 8.946092015533087e-06, 459: 0.0009793171518205723, 460: 0.0009793171518205723, 461: 0.0, 462: 2.918769504305536e-05, 463: 0.004706626112516369, 464: 2.918769504305536e-05, 465: 7.497706665189113e-05, 466: 0.004747174889568269, 467: 0.00010122655423288312, 468: 0.01513620930203079, 469: 0.00048388984507120815, 470: 0.00010122655423288312, 471: 0.00010122655423288312, 472: 0.0003460304020449819, 473: 3.0498018195594915e-05, 474: 0.0013140200222060419, 475: 5.7030337055329245e-05, 476: 0.0007502070240457617, 477: 0.0007502070240457617, 478: 0.00034603137398406687, 479: 0.0012946155898919207, 480: 0.00459185954440111, 481: 0.006800535214952535, 482: 0.00019910770681374037, 483: 0.002663238395649852, 484: 0.00012329390404852117, 485: 0.0011752449982128656, 486: 1.7289651377880798e-06, 487: 0.00010325574922479845, 488: 0.0003986671501796822, 489: 0.0004459424117104308, 490: 1.9460224735661968e-05, 491: 0.00012455821056358597, 492: 0.001973442477681198, 493: 0.005055555860956296, 494: 0.0016117197376450307, 495: 3.777852059680671e-05, 496: 4.04489847001907e-05, 497: 3.777852059680671e-05, 498: 3.777852059680671e-05, 499: 3.777852059680671e-05, 500: 0.0003074394751543914, 501: 0.001407616797519379, 502: 5.4843989237014085e-05, 503: 0.0006567626413697608, 504: 0.0017594429435918298, 505: 0.0, 506: 2.2777368060492886e-05, 507: 5.9031941070257844e-05, 508: 0.001269920903849613, 509: 0.0018160639493111105, 510: 0.00019609598690551968, 511: 0.0004571911648845077, 512: 0.0005048041852659748, 513: 0.0010550860977915828, 514: 0.0018227203458824315, 515: 0.0005887417758070718, 516: 0.0, 517: 0.0003663576356788786, 518: 1.0941381602901614e-05, 519: 0.0009418693915522341, 520: 0.0008256640886593449, 521: 0.0008190137399105, 522: 0.00808951112269766, 523: 0.00020097199619298857, 524: 0.0034617324809049998, 525: 0.0016204491101722077, 526: 2.5398252672375657e-07, 527: 0.00020097199619298857, 528: 0.0023566141773399, 529: 0.003354076632234612, 530: 4.98958996741648e-05, 531: 0.0013121335301754008, 532: 0.0005584533711167428, 533: 0.0009544370437950304, 534: 0.0009544370437950304, 535: 0.002183393936835701, 536: 0.002183393936835701, 537: 0.0029073570740633372, 538: 0.0024939607258503828, 539: 0.0009544370437950304, 540: 0.0009544370437950304, 541: 0.0005584533711167428, 542: 0.0005584533711167428, 543: 0.0005584533711167428, 544: 0.0005584533711167428, 545: 0.0005584533711167428, 546: 0.0005584533711167428, 547: 0.0005584533711167428, 548: 0.00022028732116828684, 549: 0.0001379493822951011, 550: 0.00028740265158205727, 551: 0.0026936639389805008, 552: 0.0002763382228809083, 553: 0.0005333981477189468, 554: 0.0007514333619914778, 555: 0.00030915675991071643, 556: 2.5594661955206848e-05, 557: 0.0012076624668482115, 558: 0.000576107950262425, 559: 0.00022876144098093958, 560: 0.0007366542708244206, 561: 0.0001474515623590109, 562: 0.0002900487092315256, 563: 0.0013123549624873404, 564: 4.913140615254966e-05, 565: 6.9356192050514024e-06, 566: 4.90687899807e-05, 567: 0.0014581382356578035, 568: 4.6137854911058915e-07, 569: 0.00038888138131158825, 570: 0.00038888138131158825, 571: 0.00038888138131158825, 572: 0.00038888138131158825, 573: 0.0005568534106449605, 574: 0.0002624887683765555, 575: 0.000706389922685491, 576: 0.0009106825274469186, 577: 0.0018547894081197695, 578: 0.0009861074348653266, 579: 0.0005551355162823101, 580: 0.00010124990710024532, 581: 0.0007357449638709464, 582: 0.0020004054086980483, 583: 0.0014927777932211496, 584: 0.0040592242490534, 585: 0.00018622848920118142, 586: 0.0002694528620718031, 587: 0.00011087015241990309, 588: 0.0019683235478703234, 589: 0.0045059359145432, 590: 0.006627809943516622, 591: 0.0026048154163878117, 592: 5.3974795616470386e-05, 593: 0.00020269718916630775, 594: 0.002919506383752949, 595: 0.0016088201119299548, 596: 0.0, 597: 0.002237955315959844, 598: 0.0, 599: 0.001094425033204625, 600: 0.00017832625642945436, 601: 4.011597063562517e-05, 602: 0.00013150079087954894, 603: 0.0003862505537227449, 604: 0.0027122280278262636, 605: 2.692585193508781e-06, 606: 1.573750485927404e-05, 607: 0.0014590016832071232, 608: 0.0003730688103699552, 609: 1.9160609871437287e-05, 610: 0.0005799792040364736, 611: 0.00023082104739689303, 612: 7.5954344199683e-07, 613: 1.8533868944407934e-05, 614: 0.00018124662141808613, 615: 7.809746168329735e-05, 616: 0.0029332325693153132, 617: 1.7474994368899454e-06, 618: 0.00013049784800891735, 619: 0.0033256138671569637, 620: 2.969725618709804e-07, 621: 2.5784749272587162e-06, 622: 2.5784749272587162e-06, 623: 0.00039103995815108493, 624: 0.00031024224105904584, 625: 0.0011191941801902629, 626: 0.0, 627: 0.0006419207774476895, 628: 7.355497889629275e-05, 629: 0.0002221175352585327, 630: 0.00017885325341864466, 631: 0.00010860032288158164, 632: 0.006101122804133625, 633: 0.0002746598030405479, 634: 0.004806051121878201, 635: 0.0013175413919132763, 636: 0.0038952011287130273, 637: 1.3746342516979574e-05, 638: 0.0012132294845629513, 639: 3.1023263906175227e-06, 640: 5.7213511723778e-05, 641: 0.0022873690831040116, 642: 0.0011681749029137467, 643: 5.656604004114547e-05, 644: 0.0003632406475820548, 645: 0.0005717208587690718, 646: 0.0022658685560307725, 647: 0.000535892724437068, 648: 2.73191877219713e-05, 649: 2.73191877219713e-05, 650: 0.002610489905557816, 651: 0.0013339556317162366, 652: 0.00011305447010003397, 653: 0.00043698946419579984, 654: 0.0013796746211515742, 655: 0.0004641374538198202, 656: 2.3013152162199038e-05, 657: 3.062092585153448e-06, 658: 3.062092585153448e-06, 659: 0.00027651061677175817, 660: 0.00016253077640456936, 661: 1.3051624568394376e-05, 662: 0.00022028732116828684, 663: 0.0008366500941217458, 664: 0.00020339747025990655, 665: 0.00026387788409550675, 666: 0.0029864075606490636, 667: 9.065970690809929e-05, 668: 0.003710496898064257, 669: 7.730643923890815e-05, 670: 1.7676996718133282e-05, 671: 0.0018165165239452793, 672: 0.005743308878928743, 673: 0.0010425923148860402, 674: 0.0030787351450627816, 675: 0.0012780649024054537, 676: 0.0, 677: 0.0004575361989698721, 678: 0.0004575361989698721, 679: 9.076241205109398e-05, 680: 0.0003361762348449026, 681: 0.0013139195021325554, 682: 9.009395836011856e-05, 683: 0.00020216014948339653, 684: 0.00020216014948339653, 685: 0.0003080671892522886, 686: 0.00011874396474440695, 687: 0.0006288983338304044, 688: 0.00025485281094427274, 689: 0.00037602403980676946, 690: 0.0015140308731645881, 691: 1.6680765989405446e-05, 692: 0.006668215422894354, 693: 0.00023052434238542857, 694: 3.961132056128675e-05, 695: 4.004409264191264e-05, 696: 7.687021613051621e-05, 697: 0.00019959056076053111, 698: 0.00026658739749831523, 699: 9.593970954507132e-06, 700: 0.00019417294301350772, 701: 0.0008592233289647207, 702: 0.0005117842044932403, 703: 0.0005051277435820948, 704: 0.0005051277435820948, 705: 0.0, 706: 1.0831200020918742e-07, 707: 0.006274424633622443, 708: 0.000549021383321557, 709: 4.331395210573627e-05, 710: 0.00017885325341864466, 711: 0.0006662552110984927, 712: 0.0001167836931705362, 713: 0.0001167836931705362, 714: 0.0002044480192040027, 715: 0.0, 716: 4.177656514334688e-07, 717: 7.518172645358069e-05, 718: 4.177656514334688e-07, 719: 4.177656514334688e-07, 720: 4.177656514334688e-07, 721: 4.177656514334688e-07, 722: 0.00013735575931650862, 723: 0.0010683551132960576, 724: 0.0013478837390373142, 725: 0.0021661216293000526, 726: 0.0037204184626505755, 727: 0.006896588805724108, 728: 0.0001951524201617612, 729: 0.0019194278436474596, 730: 0.00015611463154489912, 731: 2.52605434176967e-05, 732: 0.000716054559963611, 733: 9.962165665164738e-05, 734: 0.0005418682386518662, 735: 0.0010645369496901029, 736: 0.0008248943593885832, 737: 0.007978348635510299, 738: 6.324673603628165e-06, 739: 1.8437351844543775e-05, 740: 5.546970704647629e-05, 741: 0.0001548053933706708, 742: 2.295442900818077e-06, 743: 7.543306233220282e-05, 744: 9.255378329529062e-05, 745: 4.948487078438723e-05, 746: 4.948487078438723e-05, 747: 6.664663136515255e-06, 748: 0.0, 749: 0.00028592554603198446, 750: 3.914586607220877e-06, 751: 3.914586607220877e-06, 752: 2.0975673843343823e-05, 753: 0.00018118686554596044, 754: 0.0005305125696954764, 755: 4.779352189148591e-05, 756: 0.00012152284198878206, 757: 0.0018933196775098627, 758: 0.00011453163788550476, 759: 0.0003534298876808522, 760: 0.00013320289698465017, 761: 0.00013320289698465017, 762: 0.0005335096045770856, 763: 0.00025209818182178384, 764: 0.0, 765: 1.828927967105048e-08, 766: 0.001521625920963579, 767: 4.278754333885757e-05, 768: 0.0007521289246062306, 769: 9.547174953495124e-06, 770: 0.00018187606116063838, 771: 6.491603778612796e-05, 772: 0.00013322423795398495, 773: 0.00013322423795398495, 774: 0.00013322423795398495, 775: 0.0006294933424668105, 776: 0.0004832953934532059, 777: 0.0005082146560218727, 778: 0.00014744339669125705, 779: 0.0011001466345597721, 780: 0.00017338105503610709, 781: 0.00015684158133322514, 782: 0.00017338105503610709, 783: 1.5392958562050233e-06, 784: 1.5392958562050233e-06, 785: 0.0006932533681409664, 786: 0.0016246055338888868, 787: 0.0004849309401290554, 788: 0.001387358871039722, 789: 9.162840519932383e-06, 790: 0.0012136760291691763, 791: 0.0012802107545617073, 792: 0.00012122045807864096, 793: 0.00011028591030137782, 794: 2.088828257167344e-08, 795: 0.00011183158502193619, 796: 2.81387625272988e-05, 797: 2.81387625272988e-05, 798: 2.909171781728585e-05, 799: 0.005794886694949461, 800: 0.0, 801: 0.0, 802: 4.0731165286055555e-06, 803: 5.830400002315683e-05, 804: 0.002133232959652286, 805: 0.0005052696030927483, 806: 0.0005052696030927483, 807: 0.0004303896228231712, 808: 0.0, 809: 2.796943010092682e-05, 810: 0.0, 811: 0.007095957152826441, 812: 3.732202508252314e-05, 813: 0.0, 814: 0.0015838667375450406, 815: 6.082851518124685e-08, 816: 0.00045240026098184154, 817: 0.0014588655359660202, 818: 6.01621041810871e-08, 819: 6.01621041810871e-08, 820: 0.0003091530628602031, 821: 0.00047469395409777853, 822: 0.0037545485496692623, 823: 0.0, 824: 9.074762049334386e-07, 825: 0.021092079829806546, 826: 8.216210394584784e-06, 827: 0.000390997285077097, 828: 2.0080720168415643e-05, 829: 0.0002424259430531676, 830: 0.0001598374794201222, 831: 6.186472748370605e-06, 832: 4.4686426645896806e-05, 833: 3.5336647335530714e-05, 834: 3.5336647335530714e-05, 835: 3.5336647335530714e-05, 836: 3.5336647335530714e-05, 837: 3.5336647335530714e-05, 838: 3.5336647335530714e-05, 839: 3.5336647335530714e-05, 840: 5.210990534636075e-05, 841: 0.000602620466456994, 842: 5.5532398006659446e-05, 843: 5.5532398006659446e-05, 844: 5.5532398006659446e-05, 845: 0.0, 846: 0.0, 847: 0.0, 848: 8.537967270250207e-06, 849: 5.14899156542834e-05, 850: 0.00022320085209967747, 851: 0.0, 852: 6.629201783018302e-05, 853: 0.001372838212255928, 854: 0.00011875842720144646, 855: 1.1739351371767745e-05, 856: 3.730405730610694e-05, 857: 5.728548238652927e-05, 858: 3.0299229838183657e-05, 859: 0.00022380965113045264, 860: 4.69760984669588e-06, 861: 0.00039776767821632396, 862: 0.00020586117399166106, 863: 0.0001047621727343179, 864: 0.005340224162925088, 865: 0.0009697705153440006, 866: 0.0006571542053656593, 867: 0.00174550263618568, 868: 0.0, 869: 7.265713399020378e-06, 870: 0.00048673083894747426, 871: 0.0063860855435405785, 872: 2.9772341742846494e-06, 873: 0.00012258186752725177, 874: 2.2685251654197485e-05, 875: 8.399077762628647e-05, 876: 3.567603862915611e-05, 877: 8.545334968305195e-05, 878: 4.8508180608302155e-05, 879: 6.527277990420044e-06, 880: 4.443447825828298e-05, 881: 0.0016192739405853473, 882: 0.0004815531144837922, 883: 6.771625638321013e-05, 884: 0.00013497784410097528, 885: 8.374793175825045e-05, 886: 3.5960334043337555e-05, 887: 0.0012475857592220221, 888: 0.0, 889: 0.00032671738156588796, 890: 0.00010621576942902459, 891: 0.00011805763261947782, 892: 3.3250772971868657e-05, 893: 2.859407517544033e-05, 894: 1.834012980638342e-05, 895: 1.834012980638342e-05, 896: 1.834012980638342e-05, 897: 1.834012980638342e-05, 898: 1.834012980638342e-05, 899: 0.0002206682175944098, 900: 2.1046288006822673e-06, 901: 4.015940286130377e-05, 902: 7.58283819811531e-05, 903: 0.00029487320430860445, 904: 0.0002928027495264982, 905: 3.812282065270633e-05, 906: 1.9299318744357957e-05, 907: 0.0, 908: 0.0016246055338888868, 909: 0.0004421317714114139, 910: 0.00028845873194210074, 911: 0.0006294933424668105, 912: 0.0023564410619163864, 913: 0.0008688517410563986, 914: 0.00033826910896712627, 915: 0.0009957434678112647, 916: 0.0, 917: 0.00047305998152745145, 918: 0.00011612775787040674, 919: 0.0003312819258197324, 920: 0.0018999705523314152, 921: 0.0002703794863504007, 922: 0.0, 923: 0.000255587935413165, 924: 0.0003175331387370882, 925: 1.0727524918980191e-05, 926: 8.08891798636325e-05, 927: 0.0007694073984350069, 928: 1.5962239166922887e-05, 929: 0.0004077114248388316, 930: 0.00039637939110466665, 931: 0.0004143729890227697, 932: 0.00017381645986264615, 933: 0.00024702168259715804, 934: 0.0004575426561302097, 935: 0.0001392229948531169, 936: 0.0008164330721432807, 937: 0.004591926477035235, 938: 1.0553620470966494e-06, 939: 1.0398588127787186e-05, 940: 2.105517243841056e-05, 941: 2.105517243841056e-05, 942: 2.105517243841056e-05, 943: 2.105517243841056e-05, 944: 2.105517243841056e-05, 945: 0.0027447428478044565, 946: 6.15518168212407e-05, 947: 8.53305060950255e-05, 948: 4.004409264191264e-05, 949: 0.00026658739749831523, 950: 4.4716324262861174e-05, 951: 0.0004378487593808309, 952: 5.480008892074342e-05, 953: 8.476719326268565e-06, 954: 0.0011198180109005514, 955: 1.5545201379097436e-08, 956: 1.5545201379097436e-08, 957: 0.0007558935588720951, 958: 1.5545201379097436e-08, 959: 5.765286643429545e-06, 960: 3.383448105014791e-08, 961: 0.0010607887769536676, 962: 3.777852059680671e-05, 963: 9.395090930094177e-05, 964: 0.0006919358308422207, 965: 1.2042137407506191e-06, 966: 0.00021675111470043733, 967: 1.2042137407506191e-06, 968: 1.2042137407506191e-06, 969: 1.2042137407506191e-06, 970: 1.2042137407506191e-06, 971: 4.364828780387119e-05, 972: 0.001136584047208997, 973: 0.001136584047208997, 974: 0.00011206656811944773, 975: 1.2042137407506191e-06, 976: 7.799186910381745e-07, 977: 3.2306026102249355e-05, 978: 0.0005130166666474728, 979: 5.997037627590062e-05, 980: 0.0, 981: 0.0, 982: 0.0, 983: 0.0, 984: 0.0, 985: 0.0, 986: 0.0, 987: 0.0014029571699407128, 988: 0.0, 989: 0.0002952714652641875, 990: 2.55250222194515e-06, 991: 0.0, 992: 0.0, 993: 0.0, 994: 0.0, 995: 0.0, 996: 6.03721874404849e-06, 997: 0.0, 998: 0.0, 999: 0.0, 1000: 0.0, 1001: 0.0, 1002: 0.0, 1003: 0.0, 1004: 0.0032260922737621027, 1005: 0.0, 1006: 0.0, 1007: 0.0, 1008: 1.2532969543004064e-07, 1009: 0.0, 1010: 0.0, 1011: 0.0, 1012: 0.0033557025951393383, 1013: 0.0, 1014: 0.0, 1015: 0.0020471373910596505, 1016: 6.03721874404849e-06, 1017: 0.0, 1018: 0.0, 1019: 0.0, 1020: 0.0, 1021: 0.0, 1022: 0.0, 1023: 0.0, 1024: 0.0, 1025: 0.0, 1026: 0.0, 1027: 0.0, 1028: 9.872520027442331e-06, 1029: 0.0, 1030: 0.0, 1031: 0.0, 1032: 0.0, 1033: 5.36094329078498e-07, 1034: 0.0, 1035: 0.0, 1036: 0.00010116687806708862, 1037: 0.0, 1038: 0.0, 1039: 0.0011230905901309578, 1040: 8.95212110214576e-08, 1041: 0.0, 1042: 0.0, 1043: 0.004627672090236106, 1044: 0.0, 1045: 6.423030531812759e-05, 1046: 2.4694836755148136e-05, 1047: 1.2854200047647156e-07, 1048: 1.7289651377880798e-06, 1049: 1.7289651377880798e-06, 1050: 0.0, 1051: 0.0019571692269774845, 1052: 0.0, 1053: 0.0011315686244544097, 1054: 1.8415441039592175e-06, 1055: 0.0009105734281176121, 1056: 0.00027932855868970303, 1057: 1.8799454314506098e-06, 1058: 0.005585317876839761, 1059: 0.00027932855868970303, 1060: 0.0, 1061: 0.0, 1062: 0.0, 1063: 0.0, 1064: 0.0, 1065: 0.0014067265101015511, 1066: 0.0001871983297178914, 1067: 0.0002374358309473477, 1068: 0.0001862760457595432, 1069: 0.0, 1070: 0.0, 1071: 0.0, 1072: 0.0, 1073: 0.0006798720634409137, 1074: 0.0010414435853076192, 1075: 0.0011191941801902633, 1076: 0.0, 1077: 0.0, 1078: 0.0, 1079: 0.0, 1080: 0.0, 1081: 0.00027932855868970303, 1082: 0.0, 1083: 0.0, 1084: 0.0002678440599976444, 1085: 0.00022235369208234703, 1086: 4.773331173206711e-05, 1087: 0.0, 1088: 0.0, 1089: 0.0, 1090: 0.0022371350634262255, 1091: 0.0, 1092: 5.217898026288047e-05, 1093: 5.393441598791394e-05, 1094: 0.0, 1095: 0.001250430573614992, 1096: 2.8303237151984776e-06, 1097: 6.025455756624312e-07, 1098: 6.025455756624312e-07, 1099: 6.025455756624312e-07, 1100: 0.0011200110497999371, 1101: 0.0, 1102: 0.0, 1103: 0.00024716712631593, 1104: 7.794957701318285e-05, 1105: 0.0, 1106: 1.2526065474492813e-06, 1107: 0.0008879898760001101, 1108: 0.00023788686278616904, 1109: 0.0, 1110: 0.0, 1111: 0.0011191941801902629, 1112: 0.0, 1113: 0.0, 1114: 0.00010116687806708862, 1115: 0.0, 1116: 0.0020018723186298855, 1117: 1.4049780466743173e-05, 1118: 0.000528420188901973, 1119: 0.0, 1120: 0.0, 1121: 1.1867662436938233e-07, 1122: 0.004625655612443637, 1123: 1.2532969543004064e-07, 1124: 0.000759797262196343, 1125: 0.0, 1126: 0.0, 1127: 0.0, 1128: 0.0, 1129: 3.1452706831397055e-07, 1130: 3.1452706831397055e-07, 1131: 5.815487761431811e-08, 1132: 0.0, 1133: 2.0067508339914558e-05, 1134: 0.0027749537514669604, 1135: 0.0, 1136: 0.00015031656579184944, 1137: 0.00024387699198918784, 1138: 0.0008204819164249431, 1139: 1.7289651377880798e-06, 1140: 0.0001537376532736675, 1141: 2.505809334061097e-06, 1142: 1.2027978305545235e-05, 1143: 2.1222723137882333e-05, 1144: 0.0, 1145: 0.0, 1146: 2.9705362092265548e-06, 1147: 0.0, 1148: 0.0, 1149: 0.0, 1150: 0.0, 1151: 0.0, 1152: 3.7030294767922855e-05, 1153: 6.15518168212407e-05, 1154: 0.0, 1155: 0.0, 1156: 9.465553745209922e-05, 1157: 6.22904612839729e-05, 1158: 1.828927967105048e-08, 1159: 2.029053519521692e-05, 1160: 2.029053519521692e-05, 1161: 0.0003720087378228104, 1162: 0.0003720087378228104, 1163: 0.0007368749656414986, 1164: 0.0003720087378228104, 1165: 0.0002789526089675148, 1166: 1.8305783603360522e-05, 1167: 0.0005401838321305389, 1168: 8.425337102346368e-05, 1169: 0.00014816675822492458, 1170: 0.0, 1171: 0.0, 1172: 2.4781484176583648e-05, 1173: 6.025455756624312e-07, 1174: 0.0, 1175: 0.0, 1176: 0.0, 1177: 0.0011192986216031213, 1178: 0.0, 1179: 1.0365623320019789e-05, 1180: 1.0365623320019789e-05, 1181: 1.2644441827280877e-07, 1182: 1.2644441827280877e-07, 1183: 0.0, 1184: 1.828927967105048e-08, 1185: 0.0, 1186: 1.7583068605145146e-05, 1187: 3.298149879737912e-08, 1188: 1.3631125556294291e-05, 1189: 0.0, 1190: 5.645948004935402e-05, 1191: 5.9077198715283395e-05, 1192: 0.0, 1193: 1.1393608675458241e-07, 1194: 6.612544318525975e-05, 1195: 6.612544318525975e-05, 1196: 0.0, 1197: 0.0, 1198: 0.0, 1199: 8.893642836995175e-05, 1200: 0.0, 1201: 6.533438098636638e-07, 1202: 9.283456993748062e-05, 1203: 0.00022795416282652212, 1204: 1.5571923310777135e-07, 1205: 7.126502012122459e-07, 1206: 0.0, 1207: 5.599504720118213e-06, 1208: 5.599504720118213e-06, 1209: 0.0, 1210: 0.0, 1211: 0.0011193128568146322, 1212: 0.0, 1213: 0.0015680683967216383, 1214: 1.8726994596897215e-05, 1215: 4.9662145919216516e-05, 1216: 4.9662145919216516e-05, 1217: 0.0, 1218: 0.0, 1219: 0.0, 1220: 6.266484771502032e-08, 1221: 0.0, 1222: 6.317841493724735e-08, 1223: 0.0, 1224: 6.08285508909033e-07, 1225: 0.0, 1226: 0.0, 1227: 0.0, 1228: 0.0, 1229: 0.0, 1230: 0.0007807919002265325, 1231: 2.246408384261034e-05, 1232: 0.0, 1233: 1.8415441039592175e-06, 1234: 6.11503227686461e-05, 1235: 6.0295703803318845e-05, 1236: 0.0008196123596600772, 1237: 2.2418582638810466e-05, 1238: 3.4621805546897e-06, 1239: 3.355015393823493e-05, 1240: 6.533438098636638e-07, 1241: 0.00014597232399936165, 1242: 0.00010350070294734112, 1243: 3.549897855211761e-05, 1244: 5.5053626968276276e-05, 1245: 0.0, 1246: 7.58283819811531e-05, 1247: 0.0, 1248: 7.4341387014633535e-06, 1249: 0.0, 1250: 0.0, 1251: 9.230911398867192e-06, 1252: 6.6630765330203e-05, 1253: 0.00042543518450033075, 1254: 0.0014650376872774274, 1255: 2.6730964671737748e-05, 1256: 0.0, 1257: 0.0, 1258: 3.298149879737912e-08, 1259: 1.3017623238301153e-05, 1260: 0.0001124534833416769, 1261: 0.0, 1262: 0.0, 1263: 6.266484771502032e-08, 1264: 0.000367865337671633, 1265: 0.000511404563642305, 1266: 0.0, 1267: 0.0, 1268: 0.0022377617119033757, 1269: 0.0, 1270: 4.1778204137639656e-06, 1271: 0.00033893837243535545, 1272: 0.00033893837243535545, 1273: 0.0001651659113391028, 1274: 8.08891798636325e-05, 1275: 8.08891798636325e-05, 1276: 0.00010400149466524901, 1277: 0.00010400149466524901, 1278: 1.9299318744357957e-05, 1279: 0.0, 1280: 1.901512033758543e-05, 1281: 5.787256473566508e-05, 1282: 2.4615062462128683e-06, 1283: 0.00022510556449963158, 1284: 0.0, 1285: 1.0365623320019789e-05, 1286: 0.0001009441211708368, 1287: 0.00022241485147173022, 1288: 0.0, 1289: 0.0033557025951393383, 1290: 0.004469256939035249, 1291: 6.113116385717513e-06, 1292: 0.00012862054774971014, 1293: 4.484351764499573e-08, 1294: 3.080409315046854e-05, 1295: 0.0001509681878238276, 1296: 0.0001509681878238276, 1297: 0.001874601474837229, 1298: 0.0007674556688954139, 1299: 0.001262481793682848, 1300: 5.894666880842635e-06, 1301: 0.0, 1302: 0.0022777404210815033, 1303: 7.518172645358069e-05, 1304: 7.518172645358069e-05, 1305: 7.518172645358069e-05, 1306: 3.639767879516799e-05, 1307: 0.00018156215707424545, 1308: 0.00010676504021548045, 1309: 2.6747909082450844e-05, 1310: 0.00017396886396122983, 1311: 0.001517406540507478, 1312: 3.363561724093056e-05, 1313: 7.108964783715074e-05, 1314: 5.505236798898908e-06, 1315: 0.0, 1316: 6.025455756624312e-07, 1317: 0.0, 1318: 1.0590912388123976e-05, 1319: 0.0, 1320: 7.58422232875925e-05, 1321: 4.971095884861372e-05, 1322: 0.003161171706573934, 1323: 1.6930105818572627e-06, 1324: 2.465268122793033e-06, 1325: 2.793591168938e-06, 1326: 0.0, 1327: 0.0, 1328: 2.0729321448680415e-05, 1329: 6.042001258554387e-07, 1330: 0.0002670696117266774, 1331: 1.3369630404971243e-06, 1332: 8.232593366745797e-07, 1333: 0.0, 1334: 0.0011534812302350986, 1335: 6.612544318525975e-05, 1336: 2.9348203696662705e-06, 1337: 0.0, 1338: 0.0, 1339: 6.236146862245469e-05, 1340: 0.0, 1341: 0.0, 1342: 9.09468533079244e-06, 1343: 4.426901624194552e-06, 1344: 4.426901624194552e-06, 1345: 0.0, 1346: 0.0020505184643766867, 1347: 0.0, 1348: 0.0, 1349: 1.1644504131291797e-05, 1350: 7.4341387014633535e-06, 1351: 2.8303237151984776e-06, 1352: 4.180408012591993e-06, 1353: 0.0010362526266939028, 1354: 3.802073840331296e-06, 1355: 0.0, 1356: 4.477551612846598e-05, 1357: 0.0013284899676991144, 1358: 0.0, 1359: 1.0648068248434823e-06, 1360: 1.0648068248434823e-06, 1361: 0.0, 1362: 0.0, 1363: 0.0, 1364: 1.2271866010858146e-07, 1365: 0.00010882171338456843, 1366: 0.0007254004292857184, 1367: 6.552644881182147e-05, 1368: 0.000266342544021284, 1369: 2.8047116112585147e-07, 1370: 0.0, 1371: 1.204045852137739e-05, 1372: 9.039043034202672e-07, 1373: 0.0, 1374: 0.001191168436515125, 1375: 0.0, 1376: 1.6722067948127326e-05, 1377: 1.2532969543004064e-07, 1378: 0.00010627871364552999, 1379: 1.539352702641494e-06, 1380: 3.0598240558594035e-06, 1381: 4.325373797849803e-05, 1382: 1.3666533155248416e-05, 1383: 0.0, 1384: 0.0005814646560525832, 1385: 0.0, 1386: 0.00017059976573174422, 1387: 0.00010747642400492287, 1388: 1.4422994069699916e-05, 1389: 2.1236746931972742e-05, 1390: 0.0, 1391: 0.00010625039611503691, 1392: 9.442911119306295e-05, 1393: 0.00013791731562890316, 1394: 2.457913921342735e-06, 1395: 9.09468533079244e-06, 1396: 0.0, 1397: 3.851457605213198e-06, 1398: 3.851457605213198e-06, 1399: 0.0, 1400: 2.1333862834552857e-05, 1401: 2.1333862834552857e-05, 1402: 5.427715721204739e-05, 1403: 1.634036754144645e-05, 1404: 0.00019168314695531443, 1405: 3.8002871399217157e-06, 1406: 1.1659190598008761e-06, 1407: 1.2009518188309363e-06, 1408: 1.1659190598008761e-06, 1409: 1.2009518188309363e-06, 1410: 1.1659190598008761e-06, 1411: 1.1659190598008761e-06, 1412: 6.889251112380364e-06, 1413: 7.853000323510937e-05, 1414: 4.993041172043527e-05, 1415: 1.6134870126815972e-05, 1416: 2.3671189779656607e-05, 1417: 6.568131607280819e-07, 1418: 6.568131607280819e-07, 1419: 6.568131607280819e-07, 1420: 6.568131607280819e-07, 1421: 3.627751355404117e-06, 1422: 6.568131607280819e-07, 1423: 6.568131607280819e-07, 1424: 1.2322467781034443e-05, 1425: 2.8703996937187726e-05, 1426: 8.447407008495701e-05, 1427: 3.194489472595003e-06, 1428: 3.151614217677909e-05, 1429: 0.0, 1430: 0.0022377617119033757, 1431: 0.0, 1432: 0.003353832002670233, 1433: 0.0, 1434: 1.8291947563348996e-07, 1435: 1.8291947563348996e-07, 1436: 1.8291947563348996e-07, 1437: 9.166400596612018e-08, 1438: 7.96955250933515e-06, 1439: 4.7594555235430724e-05, 1440: 0.00037228509280177975, 1441: 4.619769042125446e-06, 1442: 4.619769042125446e-06, 1443: 4.619769042125446e-06, 1444: 0.00014096410312568265, 1445: 0.00014096410312568265, 1446: 4.619769042125446e-06, 1447: 8.95212110214576e-08, 1448: 1.1193343481994867e-06, 1449: 0.0, 1450: 3.802073840331296e-06, 1451: 1.0365623320019789e-05, 1452: 0.0, 1453: 0.0, 1454: 0.0, 1455: 0.0, 1456: 0.0, 1457: 0.00041814772647790865, 1458: 0.00014917436037766222, 1459: 4.7898297906918855e-05, 1460: 0.0002597963964796679, 1461: 6.62025967144459e-05, 1462: 0.0, 1463: 1.1162744192129336e-06, 1464: 1.1162744192129336e-06, 1465: 8.371867383890603e-05, 1466: 0.0001997769988001827, 1467: 3.82350728106052e-05, 1468: 7.363334431491804e-05, 1469: 1.1162744192129336e-06, 1470: 5.58669719237203e-06, 1471: 1.1162744192129336e-06, 1472: 1.1162744192129336e-06, 1473: 1.1162744192129336e-06, 1474: 0.0001573784809454903, 1475: 0.00026497176266697083, 1476: 0.0, 1477: 1.0415675319768388e-05, 1478: 7.310654386299216e-05, 1479: 7.310654386299216e-05, 1480: 7.310654386299216e-05, 1481: 8.35841631078903e-05, 1482: 6.167485214364266e-05, 1483: 0.0, 1484: 0.0, 1485: 5.2463135062671275e-05, 1486: 0.0001242103868327571, 1487: 6.868194134379434e-05, 1488: 4.9736783817808184e-05, 1489: 5.4348941297188675e-05, 1490: 0.0, 1491: 2.650415587261248e-05, 1492: 1.8187838010546416e-07, 1493: 1.213541067324496e-06, 1494: 8.670686633854189e-05, 1495: 4.994892316977255e-06, 1496: 4.822990320472377e-08, 1497: 7.386920854498407e-06, 1498: 0.00035408882911854017, 1499: 0.0, 1500: 0.0003358480183709828, 1501: 2.2961573722752624e-05, 1502: 0.0009019379327967659, 1503: 8.08891798636325e-05, 1504: 0.0, 1505: 0.0018146441511910044, 1506: 1.1193343481994867e-06, 1507: 4.698898316709523e-06, 1508: 0.0001832979812111496, 1509: 4.822990320472377e-08, 1510: 0.0, 1511: 0.0, 1512: 0.0, 1513: 0.0, 1514: 1.2073012186113158e-05, 1515: 4.22859453431034e-05, 1516: 0.0007676466906155726, 1517: 0.00027994913447494397, 1518: 0.0, 1519: 0.0, 1520: 0.0006308473422783086, 1521: 0.0006308473422783086, 1522: 1.2532969543004064e-07, 1523: 0.0, 1524: 3.814778768793007e-05, 1525: 5.853471789232235e-06, 1526: 8.745366345139009e-05, 1527: 6.535365121354958e-06, 1528: 0.0002377544725088252, 1529: 4.5806502837837776e-07, 1530: 8.115529748081493e-05, 1531: 1.6225704192328768e-06, 1532: 0.0, 1533: 2.1333862834552857e-05, 1534: 0.0, 1535: 2.3558622759347153e-05, 1536: 8.716848611269493e-05, 1537: 3.23192423141456e-06, 1538: 0.00043179548954152256, 1539: 1.2613036957949883e-05, 1540: 1.45468471404319e-06, 1541: 0.00012136781480079364, 1542: 2.9077860958990664e-05, 1543: 5.389837430402543e-05, 1544: 9.352962345525421e-09, 1545: 0.0003670772273973207, 1546: 8.269224778401415e-05, 1547: 0.00016029494492439094, 1548: 2.490199639967236e-05, 1549: 1.962812723545505e-05, 1550: 4.0221902747450296e-07, 1551: 0.00011938533067448898, 1552: 1.3562213841227467e-05, 1553: 4.701612173229216e-06, 1554: 1.4340466160707578e-05, 1555: 1.1286873105450121e-06, 1556: 0.0, 1557: 1.0240147653691598e-06, 1558: 0.0001432485793079977, 1559: 1.0008055625117448e-06, 1560: 1.5096963517530178e-05, 1561: 5.675499279933388e-06, 1562: 0.0002218926118758051, 1563: 8.245723835587378e-06, 1564: 0.0, 1565: 2.3129950734168206e-05, 1566: 5.258494176399531e-08, 1567: 0.0, 1568: 0.0012236835030808957, 1569: 0.0, 1570: 0.0, 1571: 0.0, 1572: 0.001450199099290521, 1573: 0.0, 1574: 4.2422431425174104e-05, 1575: 4.717937012632815e-05, 1576: 1.911645047590354e-07, 1577: 0.0003700800142847452, 1578: 0.0, 1579: 0.0, 1580: 0.0, 1581: 0.0, 1582: 0.0, 1583: 0.00012809265387741432, 1584: 7.281563222010265e-05, 1585: 0.002173357328276692, 1586: 0.0001031505982978913, 1587: 0.0002892952359299488, 1588: 1.6163682009595582e-05, 1589: 0.000865941449652251, 1590: 1.207841815032128e-05, 1591: 3.4400537356609244e-05, 1592: 0.0005565762049649444, 1593: 1.7504737906967067e-07, 1594: 1.820517110665008e-05, 1595: 8.463744436503244e-05, 1596: 8.575244909336372e-05, 1597: 0.00012686085194603842, 1598: 1.7504737906967067e-07, 1599: 0.0001262213846126799, 1600: 0.0007779492336112463, 1601: 0.00025388188817878125, 1602: 5.656001284342459e-06, 1603: 0.0001960353039372971, 1604: 0.00012678628895297016, 1605: 0.00012678628895297016, 1606: 0.00012678628895297016, 1607: 5.656001284342459e-06, 1608: 0.00027932855868970303, 1609: 0.0, 1610: 1.1020578196571433e-05, 1611: 2.2680989399456125e-05, 1612: 0.00014837940633015536, 1613: 0.0, 1614: 2.8599930607991704e-05, 1615: 0.0001230976759189618, 1616: 4.877171889746074e-07, 1617: 6.025455756624312e-07, 1618: 0.011160516458706764, 1619: 0.0033541359739464633, 1620: 0.0005592837658565565, 1621: 0.0005592837658565565, 1622: 0.0, 1623: 0.0, 1624: 0.0, 1625: 0.00018272424345419782, 1626: 0.0007339505716276824, 1627: 5.13214422871455e-05, 1628: 0.00035633935929726425, 1629: 3.503275903006027e-08, 1630: 3.549897855211761e-05, 1631: 0.0005189477974957156, 1632: 0.0, 1633: 0.0006395728147735587, 1634: 6.951432353082198e-06, 1635: 0.00032056121636935236, 1636: 5.853471789232235e-06, 1637: 8.841117681534956e-05, 1638: 0.001256616029156174, 1639: 0.0, 1640: 8.232593366745797e-07, 1641: 5.168605020052885e-05, 1642: 6.025455756624312e-07, 1643: 1.9621069390883285e-05, 1644: 0.00012073121467912816, 1645: 1.1288888007485279e-07, 1646: 1.9380382060721457e-05, 1647: 0.0, 1648: 5.251758772359207e-05, 1649: 3.15923688544536e-05, 1650: 0.0013439403222113666, 1651: 0.00028592554603198446, 1652: 6.831749091119451e-05, 1653: 6.831749091119451e-05, 1654: 0.0013870685316070646, 1655: 6.831749091119451e-05, 1656: 0.0005383800402545909, 1657: 0.00014879112762809478, 1658: 8.973087709058233e-06, 1659: 2.5600793227589047e-06, 1660: 5.3442084087586836e-05, 1661: 3.133242385751016e-07, 1662: 0.0, 1663: 2.7339298898907086e-06, 1664: 0.0008075744506167717, 1665: 1.2330824872955608e-07, 1666: 3.163437192624753e-07, 1667: 0.0005052176606321975, 1668: 0.0, 1669: 0.00013570093783642432, 1670: 3.163437192624753e-07, 1671: 2.416515860508813e-06, 1672: 2.416515860508813e-06, 1673: 2.416515860508813e-06, 1674: 2.416515860508813e-06, 1675: 2.416515860508813e-06, 1676: 1.6393460341412434e-05, 1677: 2.416515860508813e-06, 1678: 6.934727677206434e-05, 1679: 1.0831200020918742e-07, 1680: 1.0831200020918742e-07, 1681: 1.0831200020918742e-07, 1682: 3.61616620228014e-05, 1683: 4.3947531103233865e-05, 1684: 0.0002996249121393802, 1685: 0.00023882107183306674, 1686: 5.5747483450742404e-05, 1687: 5.93121198061029e-05, 1688: 3.84131679884247e-06, 1689: 1.2746661495925596e-05, 1690: 1.843677014825362e-05, 1691: 1.0590912388123976e-05, 1692: 0.0004493476917790376, 1693: 0.00016473150764099732, 1694: 0.00040981186137268265, 1695: 2.2641071767297033e-05, 1696: 7.552337366172298e-05, 1697: 0.00021582119897803884, 1698: 3.726990532681684e-08, 1699: 1.4621797800171404e-06, 1700: 1.4621797800171404e-06, 1701: 1.4621797800171404e-06, 1702: 1.4621797800171404e-06, 1703: 2.8047116112585147e-07, 1704: 0.0, 1705: 0.0014719617760657598, 1706: 0.0, 1707: 0.0016620464962754833, 1708: 7.093033189615546e-06, 1709: 0.0, 1710: 1.213541067324496e-06, 1711: 1.456358641341982e-05, 1712: 1.9299318744357957e-05, 1713: 0.0, 1714: 5.812578959260902e-05, 1715: 0.0017041848207358346, 1716: 5.812578959260902e-05, 1717: 0.0, 1718: 3.726990532681684e-08, 1719: 1.789212719362524e-06, 1720: 0.0009985759910758102, 1721: 0.00020666220129333143, 1722: 9.187108395037456e-07, 1723: 0.0, 1724: 0.001553951349336248, 1725: 0.00025174812268866613, 1726: 6.581779851408067e-06, 1727: 0.0, 1728: 0.0, 1729: 0.0, 1730: 3.9202638928769646e-07, 1731: 4.7938415601047155e-05, 1732: 7.42478998708134e-05, 1733: 6.211401831522229e-08, 1734: 1.4057083355477846e-05, 1735: 1.003658636903046e-05, 1736: 6.211401831522229e-08, 1737: 3.554126924940095e-05, 1738: 0.0002576342169892354, 1739: 0.0002953267803714145, 1740: 9.366230327955693e-06, 1741: 3.281070601262684e-05, 1742: 0.0, 1743: 1.0182719420606114e-05, 1744: 1.0014562788614351e-06, 1745: 0.0, 1746: 0.008947119023572599, 1747: 0.0014785851463060848, 1748: 0.0, 1749: 0.00013699339020781834, 1750: 3.5729295469778076e-06, 1751: 1.9380382060721457e-05, 1752: 0.0, 1753: 2.102507850760574e-05, 1754: 0.0, 1755: 0.0001264263786859791, 1756: 0.0, 1757: 0.0, 1758: 2.7537214275296687e-06, 1759: 0.00028845873194210074, 1760: 0.00028845873194210074, 1761: 0.00046537052020733055, 1762: 1.7323814945170343e-06, 1763: 7.2209251344706315e-06, 1764: 1.0941381602901614e-05, 1765: 1.0941381602901614e-05, 1766: 1.0941381602901614e-05, 1767: 1.0941381602901614e-05, 1768: 4.427821839494476e-05, 1769: 0.00022796179302984703, 1770: 0.0, 1771: 1.5571923310777135e-07, 1772: 5.073437073696236e-05, 1773: 6.405965497638745e-05, 1774: 2.0682490480788786e-05, 1775: 0.0002479165318002927, 1776: 0.00013588222176315, 1777: 0.00010882171338456843, 1778: 2.3314993405103397e-05, 1779: 0.00013074838521126182, 1780: 2.1376437943363306e-05, 1781: 0.0006557106320506468, 1782: 0.0, 1783: 0.0009297065293154682, 1784: 0.0, 1785: 0.0, 1786: 2.1706055623785497e-05, 1787: 4.69760984669588e-06}\n",
      "Average betweenness centrality 0.0013732587816789746\n",
      "Degree centrality [27, 45, 3, 17, 12, 36, 11, 4, 97, 68, 32, 30, 32, 30, 74, 147, 10, 16, 83, 1, 15, 29, 6, 2, 101, 31, 31, 34, 119, 137, 142, 169, 34, 48, 8, 55, 50, 31, 27, 98, 42, 8, 21, 12, 32, 60, 11, 15, 27, 21, 84, 98, 74, 9, 25, 14, 119, 108, 124, 126, 51, 5, 62, 19, 12, 12, 14, 12, 16, 16, 43, 11, 38, 37, 41, 46, 67, 72, 77, 71, 72, 90, 35, 86, 113, 72, 62, 90, 59, 87, 222, 272, 79, 154, 64, 33, 34, 41, 41, 45, 105, 52, 9, 9, 11, 53, 68, 36, 56, 90, 27, 8, 39, 11, 43, 5, 11, 20, 76, 16, 12, 12, 29, 36, 43, 22, 73, 49, 48, 51, 51, 22, 148, 72, 74, 31, 48, 9, 10, 16, 19, 4, 4, 66, 30, 33, 4, 98, 82, 78, 10, 16, 14, 23, 3, 13, 11, 24, 30, 97, 35, 98, 2, 12, 5, 25, 4, 10, 61, 2, 3, 62, 62, 1, 7, 10, 10, 10, 10, 10, 10, 17, 10, 10, 6, 12, 2, 4, 2, 1, 46, 23, 2, 31, 12, 8, 47, 12, 5, 8, 7, 89, 14, 69, 62, 69, 5, 1, 3, 2, 3, 25, 3, 1, 2, 8, 2, 9, 22, 2, 27, 3, 24, 25, 14, 77, 17, 13, 28, 22, 85, 18, 12, 23, 9, 12, 15, 31, 50, 59, 4, 4, 4, 23, 37, 21, 88, 43, 3, 23, 84, 24, 39, 35, 40, 41, 47, 48, 26, 78, 65, 15, 24, 6, 37, 22, 57, 63, 55, 43, 48, 16, 17, 55, 10, 17, 25, 11, 45, 14, 16, 4, 14, 1, 4, 26, 21, 27, 8, 21, 25, 26, 26, 21, 21, 29, 28, 2, 17, 7, 5, 20, 50, 23, 34, 8, 3, 4, 4, 49, 20, 16, 16, 19, 25, 29, 32, 21, 22, 33, 26, 27, 53, 65, 47, 30, 45, 7, 14, 23, 22, 78, 34, 20, 39, 17, 10, 21, 31, 19, 30, 15, 22, 44, 34, 8, 8, 3, 6, 17, 67, 36, 14, 55, 56, 1, 46, 1, 39, 5, 29, 25, 2, 19, 2, 11, 28, 28, 28, 6, 3, 3, 3, 4, 4, 4, 12, 18, 8, 61, 26, 20, 20, 20, 11, 23, 25, 2, 3, 50, 68, 22, 6, 28, 24, 12, 10, 11, 9, 18, 11, 21, 33, 65, 29, 19, 41, 27, 33, 76, 22, 15, 32, 1, 42, 1, 3, 8, 9, 1, 12, 10, 3, 3, 14, 7, 12, 28, 25, 1, 1, 2, 4, 12, 17, 13, 16, 13, 14, 1, 1, 4, 8, 3, 5, 8, 13, 16, 94, 3, 8, 4, 1, 7, 1, 1, 1, 3, 3, 23, 23, 1, 5, 39, 5, 6, 31, 7, 49, 11, 7, 7, 7, 6, 9, 5, 14, 14, 14, 20, 27, 44, 15, 26, 11, 26, 4, 12, 22, 23, 8, 15, 31, 72, 42, 6, 7, 6, 6, 6, 18, 35, 17, 17, 8, 1, 3, 7, 6, 22, 14, 11, 7, 13, 15, 14, 1, 12, 4, 21, 17, 23, 45, 10, 9, 18, 3, 10, 5, 3, 5, 18, 12, 16, 16, 19, 19, 20, 21, 16, 16, 12, 12, 12, 12, 12, 12, 12, 16, 11, 17, 34, 11, 18, 25, 17, 9, 29, 25, 20, 37, 12, 16, 31, 9, 6, 14, 24, 5, 14, 14, 14, 14, 21, 19, 32, 32, 31, 33, 29, 7, 19, 16, 26, 48, 13, 13, 12, 15, 23, 26, 14, 4, 18, 42, 9, 1, 4, 1, 37, 7, 10, 15, 19, 29, 3, 10, 25, 25, 12, 37, 16, 2, 11, 18, 12, 51, 3, 17, 15, 5, 3, 3, 22, 17, 3, 1, 16, 5, 9, 6, 9, 45, 17, 53, 9, 15, 2, 8, 6, 8, 12, 11, 9, 10, 7, 13, 10, 7, 7, 18, 27, 12, 17, 8, 8, 4, 5, 5, 16, 9, 4, 16, 19, 13, 22, 30, 10, 57, 8, 15, 61, 72, 50, 54, 19, 1, 11, 11, 15, 14, 16, 15, 16, 16, 23, 19, 23, 23, 21, 14, 4, 41, 18, 12, 4, 5, 7, 8, 9, 7, 14, 15, 10, 10, 1, 2, 15, 8, 4, 6, 22, 10, 10, 6, 1, 5, 9, 5, 5, 5, 5, 10, 19, 37, 40, 45, 53, 15, 22, 12, 11, 16, 13, 10, 13, 14, 37, 8, 11, 11, 15, 4, 15, 14, 12, 12, 5, 1, 8, 6, 6, 6, 8, 11, 7, 7, 11, 6, 7, 7, 7, 10, 8, 1, 2, 25, 12, 22, 9, 7, 6, 8, 8, 8, 14, 9, 10, 10, 11, 13, 12, 13, 6, 6, 10, 20, 10, 19, 5, 23, 33, 14, 13, 2, 12, 5, 5, 4, 11, 1, 1, 3, 7, 16, 16, 16, 15, 1, 2, 1, 20, 8, 2, 29, 2, 16, 14, 2, 3, 9, 20, 55, 1, 2, 90, 4, 22, 9, 17, 7, 3, 7, 5, 5, 5, 5, 5, 5, 5, 8, 30, 6, 6, 6, 1, 1, 1, 8, 5, 4, 1, 11, 41, 9, 11, 11, 15, 7, 14, 3, 4, 5, 5, 36, 20, 23, 26, 2, 4, 5, 73, 4, 6, 16, 18, 6, 9, 7, 4, 7, 6, 29, 3, 5, 4, 2, 5, 1, 16, 11, 8, 7, 6, 6, 6, 6, 6, 6, 8, 5, 12, 8, 11, 5, 3, 5, 1, 20, 13, 10, 14, 17, 12, 11, 13, 1, 9, 5, 6, 11, 2, 1, 4, 9, 8, 4, 19, 7, 26, 26, 26, 13, 5, 5, 4, 15, 32, 3, 6, 4, 4, 4, 4, 4, 34, 2, 4, 4, 8, 5, 10, 5, 3, 6, 2, 2, 10, 2, 6, 4, 25, 6, 5, 7, 5, 10, 4, 4, 4, 4, 9, 7, 7, 6, 4, 3, 6, 5, 4, 1, 1, 1, 1, 1, 1, 1, 8, 1, 2, 3, 1, 1, 1, 1, 1, 2, 1, 1, 1, 1, 1, 1, 1, 7, 1, 1, 1, 2, 1, 1, 1, 4, 1, 1, 7, 2, 1, 1, 1, 1, 1, 1, 1, 1, 1, 1, 1, 2, 1, 1, 1, 1, 2, 2, 1, 2, 1, 1, 3, 2, 1, 1, 9, 1, 6, 6, 3, 4, 4, 1, 27, 1, 4, 4, 19, 2, 4, 5, 2, 1, 1, 1, 1, 1, 18, 8, 13, 8, 1, 1, 1, 1, 4, 6, 2, 1, 2, 1, 1, 1, 2, 1, 1, 3, 6, 4, 1, 2, 2, 3, 1, 2, 3, 1, 7, 3, 2, 2, 3, 4, 1, 2, 2, 6, 1, 2, 3, 2, 1, 1, 2, 1, 2, 2, 1, 12, 2, 3, 2, 1, 2, 4, 2, 12, 1, 1, 1, 1, 3, 3, 4, 1, 5, 34, 1, 5, 12, 21, 4, 12, 5, 4, 6, 1, 1, 3, 1, 1, 1, 1, 2, 4, 2, 1, 1, 3, 5, 2, 4, 4, 4, 4, 2, 4, 8, 3, 21, 3, 2, 1, 2, 5, 3, 1, 1, 1, 3, 1, 5, 5, 2, 2, 1, 2, 1, 6, 2, 2, 1, 4, 5, 1, 2, 3, 3, 2, 2, 1, 9, 2, 5, 12, 19, 2, 4, 1, 2, 2, 1, 1, 3, 1, 13, 2, 2, 2, 1, 1, 1, 2, 2, 3, 1, 3, 1, 1, 1, 1, 2, 6, 4, 1, 4, 4, 11, 6, 3, 7, 12, 5, 10, 9, 3, 4, 2, 8, 1, 3, 1, 1, 3, 9, 13, 23, 13, 2, 1, 2, 2, 4, 1, 1, 2, 12, 16, 1, 1, 3, 1, 4, 5, 5, 5, 4, 4, 6, 6, 5, 1, 8, 12, 2, 9, 1, 5, 8, 11, 1, 4, 2, 3, 10, 2, 8, 8, 8, 16, 12, 14, 2, 1, 11, 9, 9, 9, 5, 7, 9, 8, 18, 31, 5, 6, 4, 1, 2, 1, 2, 1, 5, 9, 26, 4, 5, 2, 3, 1, 4, 2, 16, 3, 3, 1, 15, 3, 2, 2, 1, 6, 1, 1, 4, 2, 2, 1, 14, 2, 2, 3, 3, 3, 2, 19, 6, 1, 4, 8, 1, 2, 2, 1, 1, 1, 3, 11, 17, 10, 6, 3, 2, 3, 4, 1, 10, 1, 3, 2, 6, 3, 4, 6, 3, 1, 8, 2, 9, 8, 6, 8, 1, 12, 10, 12, 6, 4, 2, 3, 3, 1, 8, 8, 8, 7, 15, 7, 5, 8, 6, 8, 5, 5, 11, 10, 10, 10, 8, 4, 4, 5, 5, 5, 4, 4, 6, 9, 17, 6, 10, 1, 3, 1, 3, 1, 7, 7, 7, 4, 8, 11, 7, 3, 3, 3, 5, 5, 3, 2, 3, 1, 6, 5, 1, 1, 2, 1, 1, 19, 13, 8, 3, 3, 1, 5, 5, 6, 9, 9, 10, 5, 6, 5, 5, 5, 10, 9, 1, 4, 8, 8, 8, 9, 8, 1, 1, 5, 12, 5, 8, 8, 1, 7, 3, 4, 6, 4, 4, 5, 11, 2, 16, 3, 15, 4, 1, 22, 3, 2, 5, 3, 2, 1, 1, 1, 5, 5, 11, 4, 1, 1, 5, 5, 2, 1, 2, 2, 8, 4, 6, 2, 4, 3, 2, 8, 1, 3, 3, 2, 13, 3, 8, 4, 2, 5, 2, 10, 5, 8, 9, 8, 4, 9, 5, 6, 5, 5, 1, 8, 9, 6, 4, 3, 2, 4, 1, 2, 2, 1, 12, 1, 1, 1, 7, 1, 3, 5, 4, 18, 1, 1, 1, 1, 1, 4, 4, 19, 7, 3, 4, 14, 3, 4, 4, 5, 6, 5, 5, 8, 4, 11, 21, 5, 7, 11, 10, 10, 10, 7, 2, 1, 2, 3, 9, 1, 5, 9, 3, 2, 3, 3, 2, 2, 2, 1, 1, 5, 19, 4, 9, 3, 3, 4, 2, 6, 4, 11, 2, 7, 26, 1, 3, 3, 2, 7, 5, 2, 4, 1, 4, 5, 8, 8, 6, 6, 10, 6, 7, 6, 5, 6, 3, 2, 1, 3, 18, 3, 4, 10, 1, 10, 4, 3, 3, 3, 3, 3, 4, 3, 5, 2, 2, 2, 5, 3, 8, 8, 6, 9, 2, 6, 4, 2, 16, 12, 11, 11, 7, 11, 2, 8, 8, 8, 8, 3, 2, 4, 1, 8, 4, 1, 4, 5, 5, 1, 6, 17, 6, 1, 3, 2, 13, 13, 3, 2, 7, 12, 3, 2, 2, 2, 6, 9, 13, 4, 10, 8, 3, 6, 8, 14, 4, 7, 1, 6, 6, 1, 6, 5, 1, 6, 3, 4, 1, 2, 1, 8, 2, 2, 6, 10, 10, 25, 3, 3, 4, 4, 4, 4, 3, 5, 1, 3, 6, 6, 6, 15, 11, 11, 5, 18, 5, 5, 2, 5, 2, 1, 8, 3]\n",
      "Pearson correlation coefficient: 0.8242435188731514\n"
     ]
    }
   ],
   "source": [
    "# Padronizo a rede para a análise\n",
    "ham = padronizar_rede(ham)\n",
    "\n",
    "# Calculo e salvo a betweness centrality\n",
    "btc, av_btc = betweenness_centrality(ham)\n",
    "\n",
    "vk = degree_centrality(ham)\n",
    "\n",
    "# Calculo e ploto a correlação de Pearson entre a betweness centrality\n",
    "# e o grau do nó\n",
    "pearson_correlation_knn(vk, btc)"
   ]
  },
  {
   "cell_type": "markdown",
   "metadata": {},
   "source": [
    "## Questão 3)\n",
    "\n",
    "Calcule o coeficiente de correlação de Spearman entre as medidas closeness centrality e k-core para a rede \"Jazz\""
   ]
  },
  {
   "cell_type": "code",
   "execution_count": 89,
   "metadata": {},
   "outputs": [
    {
     "name": "stdout",
     "output_type": "stream",
     "text": [
      "Number of nodes: 198\n",
      "Number of edges: 2742\n",
      "Closeness centrality {0: 0.42919389978213507, 1: 0.4613583138173302, 2: 0.48402948402948404, 3: 0.4613583138173302, 4: 0.44269662921348313, 5: 0.4310722100656455, 6: 0.5898203592814372, 7: 0.42919389978213507, 8: 0.48284313725490197, 9: 0.49873417721518987, 10: 0.5038363171355499, 11: 0.5116883116883116, 12: 0.5367847411444142, 13: 0.5157068062827225, 14: 0.5157068062827225, 15: 0.4457013574660634, 16: 0.4129979035639413, 17: 0.5324324324324324, 18: 0.5253333333333333, 19: 0.5549295774647888, 20: 0.4613583138173302, 21: 0.4121338912133891, 22: 0.5811209439528023, 23: 0.5077319587628866, 24: 0.3588342440801457, 25: 0.4746987951807229, 26: 0.5225464190981433, 27: 0.5184210526315789, 28: 0.3724007561436673, 29: 0.37595419847328243, 30: 0.5225464190981433, 31: 0.5116883116883116, 32: 0.49747474747474746, 33: 0.3971774193548387, 34: 0.5090439276485789, 35: 0.4164904862579281, 36: 0.4497716894977169, 37: 0.4613583138173302, 38: 0.40286298568507156, 39: 0.38703339882121807, 40: 0.4528735632183908, 41: 0.49373433583959897, 42: 0.4053497942386831, 43: 0.40702479338842973, 44: 0.4078674948240166, 45: 0.43973214285714285, 46: 0.47815533980582525, 47: 0.4876237623762376, 48: 0.3379073756432247, 49: 0.40122199592668023, 50: 0.4264069264069264, 51: 0.4735576923076923, 52: 0.45496535796766746, 53: 0.523936170212766, 54: 0.5103626943005182, 55: 0.5103626943005182, 56: 0.44269662921348313, 57: 0.44772727272727275, 58: 0.4592074592074592, 59: 0.5025510204081632, 60: 0.4912718204488778, 61: 0.5143603133159269, 62: 0.4457013574660634, 63: 0.39878542510121456, 64: 0.4518348623853211, 65: 0.5012722646310432, 66: 0.6480263157894737, 67: 0.48402948402948404, 68: 0.44874715261959, 69: 0.5309973045822103, 70: 0.4264069264069264, 71: 0.4457013574660634, 72: 0.4724220623501199, 73: 0.5487465181058496, 74: 0.5253333333333333, 75: 0.5090439276485789, 76: 0.2176795580110497, 77: 0.2751396648044693, 78: 0.2774647887323944, 79: 0.5281501340482574, 80: 0.45813953488372094, 81: 0.4657210401891253, 82: 0.4624413145539906, 83: 0.5225464190981433, 84: 0.45813953488372094, 85: 0.47815533980582525, 86: 0.47129186602870815, 87: 0.5051282051282051, 88: 0.5324324324324324, 89: 0.5596590909090909, 90: 0.49622166246851385, 91: 0.41561181434599154, 92: 0.5580736543909348, 93: 0.45080091533180777, 94: 0.4746987951807229, 95: 0.4735576923076923, 96: 0.5130208333333334, 97: 0.4592074592074592, 98: 0.4087136929460581, 99: 0.5012722646310432, 100: 0.5487465181058496, 101: 0.4912718204488778, 102: 0.47815533980582525, 103: 0.4679334916864608, 104: 0.4912718204488778, 105: 0.466824644549763, 106: 0.4746987951807229, 107: 0.466824644549763, 108: 0.5382513661202186, 109: 0.4912718204488778, 110: 0.5295698924731183, 111: 0.5130208333333334, 112: 0.4592074592074592, 113: 0.5253333333333333, 114: 0.434878587196468, 115: 0.4746987951807229, 116: 0.5353260869565217, 117: 0.4758454106280193, 118: 0.523936170212766, 119: 0.48166259168704156, 120: 0.5116883116883116, 121: 0.523936170212766, 122: 0.5211640211640212, 123: 0.5038363171355499, 124: 0.5397260273972603, 125: 0.466824644549763, 126: 0.4467120181405896, 127: 0.4900497512437811, 128: 0.4264069264069264, 129: 0.4602803738317757, 130: 0.4613583138173302, 131: 0.4528735632183908, 132: 0.5130208333333334, 133: 0.4912718204488778, 134: 0.43392070484581496, 135: 0.47815533980582525, 136: 0.5, 137: 0.4602803738317757, 138: 0.5197889182058048, 139: 0.4497716894977169, 140: 0.38104448742746616, 141: 0.3608058608058608, 142: 0.35431654676258995, 143: 0.4282608695652174, 144: 0.36617100371747213, 145: 0.3675373134328358, 146: 0.36617100371747213, 147: 0.43680709534368073, 148: 0.5143603133159269, 149: 0.4539170506912442, 150: 0.4095634095634096, 151: 0.4457013574660634, 152: 0.4679334916864608, 153: 0.5170603674540682, 154: 0.5012722646310432, 155: 0.4528735632183908, 156: 0.46352941176470586, 157: 0.466824644549763, 158: 0.4876237623762376, 159: 0.4758454106280193, 160: 0.394, 161: 0.2814285714285714, 162: 0.39087301587301587, 163: 0.45601851851851855, 164: 0.45707656612529, 165: 0.4528735632183908, 166: 0.4528735632183908, 167: 0.4528735632183908, 168: 0.44772727272727275, 169: 0.4467120181405896, 170: 0.44874715261959, 171: 0.4852216748768473, 172: 0.48641975308641977, 173: 0.4624413145539906, 174: 0.36891385767790263, 175: 0.4236559139784946, 176: 0.42733188720173537, 177: 0.42733188720173537, 178: 0.43201754385964913, 179: 0.3738140417457306, 180: 0.3511586452762923, 181: 0.30974842767295596, 182: 0.3963782696177062, 183: 0.3963782696177062, 184: 0.42094017094017094, 185: 0.42094017094017094, 186: 0.44874715261959, 187: 0.42548596112311016, 188: 0.4613583138173302, 189: 0.343804537521815, 190: 0.42919389978213507, 191: 0.45496535796766746, 192: 0.46352941176470586, 193: 0.44469525959367945, 194: 0.26986301369863014, 195: 0.341421143847487, 196: 0.3474426807760141, 197: 0.3035439137134052}\n",
      "Average closeness centrality 0.45762949484981463\n",
      "K-core:  {0: 18, 1: 18, 2: 18, 3: 29, 4: 11, 5: 18, 6: 29, 7: 18, 8: 18, 9: 21, 10: 21, 11: 29, 12: 29, 13: 29, 14: 29, 15: 18, 16: 15, 17: 29, 18: 29, 19: 29, 20: 29, 21: 10, 22: 29, 23: 21, 24: 3, 25: 20, 26: 21, 27: 21, 28: 4, 29: 4, 30: 17, 31: 17, 32: 17, 33: 16, 34: 17, 35: 17, 36: 17, 37: 17, 38: 17, 39: 17, 40: 17, 41: 17, 42: 17, 43: 17, 44: 17, 45: 17, 46: 17, 47: 20, 48: 1, 49: 13, 50: 17, 51: 17, 52: 15, 53: 21, 54: 21, 55: 17, 56: 15, 57: 15, 58: 15, 59: 17, 60: 17, 61: 17, 62: 15, 63: 15, 64: 15, 65: 17, 66: 21, 67: 17, 68: 15, 69: 17, 70: 16, 71: 11, 72: 17, 73: 21, 74: 21, 75: 21, 76: 2, 77: 2, 78: 2, 79: 21, 80: 20, 81: 16, 82: 21, 83: 21, 84: 20, 85: 21, 86: 21, 87: 21, 88: 21, 89: 21, 90: 20, 91: 9, 92: 21, 93: 19, 94: 21, 95: 21, 96: 21, 97: 20, 98: 13, 99: 21, 100: 29, 101: 21, 102: 21, 103: 20, 104: 21, 105: 20, 106: 21, 107: 20, 108: 21, 109: 20, 110: 21, 111: 21, 112: 19, 113: 21, 114: 14, 115: 21, 116: 21, 117: 21, 118: 21, 119: 17, 120: 29, 121: 21, 122: 21, 123: 21, 124: 21, 125: 15, 126: 13, 127: 29, 128: 15, 129: 15, 130: 14, 131: 12, 132: 29, 133: 13, 134: 15, 135: 15, 136: 29, 137: 20, 138: 20, 139: 20, 140: 4, 141: 4, 142: 4, 143: 13, 144: 8, 145: 8, 146: 8, 147: 15, 148: 29, 149: 29, 150: 2, 151: 29, 152: 20, 153: 17, 154: 21, 155: 17, 156: 11, 157: 19, 158: 21, 159: 21, 160: 14, 161: 1, 162: 3, 163: 29, 164: 29, 165: 29, 166: 29, 167: 29, 168: 29, 169: 29, 170: 29, 171: 29, 172: 29, 173: 29, 174: 8, 175: 11, 176: 14, 177: 14, 178: 15, 179: 4, 180: 4, 181: 3, 182: 6, 183: 6, 184: 7, 185: 7, 186: 11, 187: 8, 188: 15, 189: 3, 190: 6, 191: 10, 192: 12, 193: 17, 194: 1, 195: 2, 196: 1, 197: 1}\n",
      "Spearman rank correlation coefficient: 0.7353399833516918\n",
      "p-value: 5.889403279320568e-35\n"
     ]
    }
   ],
   "source": [
    "# Padronizo a rede para a análise\n",
    "jazz = padronizar_rede(jazz)\n",
    "\n",
    "# Calculo e salvo a closeness centrality\n",
    "clc, av_clc = closeness_centrality(jazz)\n",
    "\n",
    "# Calculo e salvo a k-core centrality\n",
    "KC = k_core(jazz)\n",
    "\n",
    "# Calculo e ploto a correlação de Spearman entre a closeness centrality\n",
    "# e a k-core centrality\n",
    "\n",
    "spearman_correlation_knn(clc, KC)"
   ]
  },
  {
   "cell_type": "markdown",
   "metadata": {},
   "source": [
    "## Questão 4) \n",
    "\n",
    "Escolha as medidas de centralidade.\n",
    "\n",
    "- 1. É uma medida de centralidade local, pois alguns vértices com valores altos dessa medida podem estar na borda da rede.\n",
    "\t\n",
    "Resposta: Degree.\n",
    "\n",
    "A centralidade de grau é uma medida local, que simplesmente conta quantas conexões diretas um nó tem. Um nó pode estar na borda da rede, mas ainda assim ter um grau alto.\n",
    "\n",
    "\n",
    "- 2. Um vértice é considerado central se estiver conectado a outros centrais. É usada em redes dirigidas.\n",
    "\t\n",
    "Resposta: PageRank.\n",
    "\n",
    "O PageRank funciona com a ideia de que conexões de nós importantes aumentam a importância do nó conectado.\n",
    "\n",
    "- 3. Considera o menores caminhos entre os pares de vértices. \n",
    "\t\n",
    "Resposta: Closeness.\n",
    "\n",
    "A centralidade de closeness mede o quão perto um nó está de todos os outros, com base nos menores caminhos.\n",
    "\n",
    "- 4. É calculada a partir do espectro da matriz de adjacência.\n",
    "\t\n",
    "Resposta: Eigenvector\n",
    "\n",
    "A centralidade de autovetor (eigenvector) é baseada nos autovalores e autovetores da matriz de adjacência. Ela mede a influência de um nó, considerando a influência dos vizinhos.\n",
    "\n",
    "- 5. É calculada a partir da exponencial da matriz de probabilidade de transição.\n",
    "\t\n",
    "Resposta: Random walk\n",
    "\n",
    "A centralidade por passeio aleatório (random walk) está ligada à matriz de transição (Markov), e muitas vezes usa sua exponencial para representar probabilidades ao longo do tempo.\n",
    "\n",
    "- 6. Usa os menores caminhos de modo a determinar a carga (em termos da quantidade de tráfego) em cada vértice.\n",
    "\n",
    "Resposta: Betweeness\n",
    "\n",
    "A centralidade de intermediação (betweenness) mede o número de vezes que um nó aparece nos menores caminhos entre todos os pares"
   ]
  }
 ],
 "metadata": {
  "kernelspec": {
   "display_name": "base",
   "language": "python",
   "name": "python3"
  },
  "language_info": {
   "codemirror_mode": {
    "name": "ipython",
    "version": 3
   },
   "file_extension": ".py",
   "mimetype": "text/x-python",
   "name": "python",
   "nbconvert_exporter": "python",
   "pygments_lexer": "ipython3",
   "version": "3.11.5"
  }
 },
 "nbformat": 4,
 "nbformat_minor": 2
}
